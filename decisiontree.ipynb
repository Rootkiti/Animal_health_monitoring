{
 "cells": [
  {
   "cell_type": "markdown",
   "metadata": {},
   "source": [
    "# Overview\n",
    "In this notebook we are going to use a classification algorithm to predict animal disease.\n",
    "This wasdataset obtained fron kaggle and contains data about #nt animals but we are going to focus on cow.\n"
   ]
  },
  {
   "cell_type": "code",
   "execution_count": 2,
   "metadata": {},
   "outputs": [],
   "source": [
    "import pandas as pd\n",
    "from sklearn.tree import DecisionTreeClassifier\n",
    "from sklearn.metrics import accuracy_score\n",
    "from sklearn.pipeline import make_pipeline\n",
    "from sklearn.model_selection import train_test_split\n",
    "from category_encoders import  OrdinalEncoder\n",
    "import matplotlib.pyplot as plt\n"
   ]
  },
  {
   "cell_type": "markdown",
   "metadata": {},
   "source": [
    "# Data Preparetion\n",
    "\n",
    "### import\n"
   ]
  },
  {
   "cell_type": "markdown",
   "metadata": {},
   "source": [
    "let create a function that we will be using for data clearning "
   ]
  },
  {
   "cell_type": "code",
   "execution_count": 3,
   "metadata": {},
   "outputs": [],
   "source": [
    "def wrangle(path):\n",
    "    dataset = pd.read_csv(path)\n",
    "    return dataset"
   ]
  },
  {
   "cell_type": "code",
   "execution_count": 4,
   "metadata": {},
   "outputs": [
    {
     "data": {
      "text/html": [
       "<div>\n",
       "<style scoped>\n",
       "    .dataframe tbody tr th:only-of-type {\n",
       "        vertical-align: middle;\n",
       "    }\n",
       "\n",
       "    .dataframe tbody tr th {\n",
       "        vertical-align: top;\n",
       "    }\n",
       "\n",
       "    .dataframe thead th {\n",
       "        text-align: right;\n",
       "    }\n",
       "</style>\n",
       "<table border=\"1\" class=\"dataframe\">\n",
       "  <thead>\n",
       "    <tr style=\"text-align: right;\">\n",
       "      <th></th>\n",
       "      <th>Animal</th>\n",
       "      <th>Age</th>\n",
       "      <th>Temperature</th>\n",
       "      <th>Symptom 1</th>\n",
       "      <th>Symptom 2</th>\n",
       "      <th>Symptom 3</th>\n",
       "      <th>Disease</th>\n",
       "    </tr>\n",
       "  </thead>\n",
       "  <tbody>\n",
       "    <tr>\n",
       "      <th>0</th>\n",
       "      <td>cow</td>\n",
       "      <td>3</td>\n",
       "      <td>103.1</td>\n",
       "      <td>depression</td>\n",
       "      <td>painless lumps</td>\n",
       "      <td>loss of appetite</td>\n",
       "      <td>pneumonia</td>\n",
       "    </tr>\n",
       "    <tr>\n",
       "      <th>1</th>\n",
       "      <td>buffalo</td>\n",
       "      <td>13</td>\n",
       "      <td>104.5</td>\n",
       "      <td>painless lumps</td>\n",
       "      <td>loss of appetite</td>\n",
       "      <td>depression</td>\n",
       "      <td>lumpy virus</td>\n",
       "    </tr>\n",
       "    <tr>\n",
       "      <th>2</th>\n",
       "      <td>sheep</td>\n",
       "      <td>1</td>\n",
       "      <td>100.5</td>\n",
       "      <td>depression</td>\n",
       "      <td>painless lumps</td>\n",
       "      <td>loss of appetite</td>\n",
       "      <td>lumpy virus</td>\n",
       "    </tr>\n",
       "    <tr>\n",
       "      <th>3</th>\n",
       "      <td>cow</td>\n",
       "      <td>14</td>\n",
       "      <td>100.3</td>\n",
       "      <td>loss of appetite</td>\n",
       "      <td>swelling in limb</td>\n",
       "      <td>crackling sound</td>\n",
       "      <td>blackleg</td>\n",
       "    </tr>\n",
       "    <tr>\n",
       "      <th>4</th>\n",
       "      <td>sheep</td>\n",
       "      <td>2</td>\n",
       "      <td>103.6</td>\n",
       "      <td>painless lumps</td>\n",
       "      <td>loss of appetite</td>\n",
       "      <td>depression</td>\n",
       "      <td>pneumonia</td>\n",
       "    </tr>\n",
       "  </tbody>\n",
       "</table>\n",
       "</div>"
      ],
      "text/plain": [
       "    Animal  Age  Temperature         Symptom 1         Symptom 2  \\\n",
       "0      cow    3        103.1        depression    painless lumps   \n",
       "1  buffalo   13        104.5    painless lumps  loss of appetite   \n",
       "2    sheep    1        100.5        depression    painless lumps   \n",
       "3      cow   14        100.3  loss of appetite  swelling in limb   \n",
       "4    sheep    2        103.6    painless lumps  loss of appetite   \n",
       "\n",
       "          Symptom 3      Disease  \n",
       "0  loss of appetite    pneumonia  \n",
       "1        depression  lumpy virus  \n",
       "2  loss of appetite  lumpy virus  \n",
       "3   crackling sound     blackleg  \n",
       "4        depression    pneumonia  "
      ]
     },
     "execution_count": 4,
     "metadata": {},
     "output_type": "execute_result"
    }
   ],
   "source": [
    "# importing dataset\n",
    "\n",
    "df = wrangle(\"datasets/animal_disease_dataset.csv\")\n",
    "df.head()"
   ]
  },
  {
   "cell_type": "markdown",
   "metadata": {},
   "source": [
    "### Explore\n",
    "\n",
    "lets explore out dataset and see what data it holds"
   ]
  },
  {
   "cell_type": "code",
   "execution_count": 5,
   "metadata": {},
   "outputs": [
    {
     "name": "stdout",
     "output_type": "stream",
     "text": [
      "<class 'pandas.core.frame.DataFrame'>\n",
      "RangeIndex: 43778 entries, 0 to 43777\n",
      "Data columns (total 7 columns):\n",
      " #   Column       Non-Null Count  Dtype  \n",
      "---  ------       --------------  -----  \n",
      " 0   Animal       43778 non-null  object \n",
      " 1   Age          43778 non-null  int64  \n",
      " 2   Temperature  43778 non-null  float64\n",
      " 3   Symptom 1    43778 non-null  object \n",
      " 4   Symptom 2    43778 non-null  object \n",
      " 5   Symptom 3    43778 non-null  object \n",
      " 6   Disease      43778 non-null  object \n",
      "dtypes: float64(1), int64(1), object(5)\n",
      "memory usage: 2.3+ MB\n"
     ]
    },
    {
     "data": {
      "text/plain": [
       "(43778, 7)"
      ]
     },
     "execution_count": 5,
     "metadata": {},
     "output_type": "execute_result"
    }
   ],
   "source": [
    "df.info()\n",
    "df.shape"
   ]
  },
  {
   "cell_type": "code",
   "execution_count": 6,
   "metadata": {},
   "outputs": [
    {
     "data": {
      "text/html": [
       "<div>\n",
       "<style scoped>\n",
       "    .dataframe tbody tr th:only-of-type {\n",
       "        vertical-align: middle;\n",
       "    }\n",
       "\n",
       "    .dataframe tbody tr th {\n",
       "        vertical-align: top;\n",
       "    }\n",
       "\n",
       "    .dataframe thead th {\n",
       "        text-align: right;\n",
       "    }\n",
       "</style>\n",
       "<table border=\"1\" class=\"dataframe\">\n",
       "  <thead>\n",
       "    <tr style=\"text-align: right;\">\n",
       "      <th></th>\n",
       "      <th>Age</th>\n",
       "      <th>Temperature</th>\n",
       "    </tr>\n",
       "  </thead>\n",
       "  <tbody>\n",
       "    <tr>\n",
       "      <th>count</th>\n",
       "      <td>43778.000000</td>\n",
       "      <td>43778.000000</td>\n",
       "    </tr>\n",
       "    <tr>\n",
       "      <th>mean</th>\n",
       "      <td>6.769131</td>\n",
       "      <td>102.269590</td>\n",
       "    </tr>\n",
       "    <tr>\n",
       "      <th>std</th>\n",
       "      <td>3.886739</td>\n",
       "      <td>1.400872</td>\n",
       "    </tr>\n",
       "    <tr>\n",
       "      <th>min</th>\n",
       "      <td>1.000000</td>\n",
       "      <td>100.000000</td>\n",
       "    </tr>\n",
       "    <tr>\n",
       "      <th>25%</th>\n",
       "      <td>4.000000</td>\n",
       "      <td>101.100000</td>\n",
       "    </tr>\n",
       "    <tr>\n",
       "      <th>50%</th>\n",
       "      <td>7.000000</td>\n",
       "      <td>102.200000</td>\n",
       "    </tr>\n",
       "    <tr>\n",
       "      <th>75%</th>\n",
       "      <td>10.000000</td>\n",
       "      <td>103.400000</td>\n",
       "    </tr>\n",
       "    <tr>\n",
       "      <th>max</th>\n",
       "      <td>15.000000</td>\n",
       "      <td>105.000000</td>\n",
       "    </tr>\n",
       "  </tbody>\n",
       "</table>\n",
       "</div>"
      ],
      "text/plain": [
       "                Age   Temperature\n",
       "count  43778.000000  43778.000000\n",
       "mean       6.769131    102.269590\n",
       "std        3.886739      1.400872\n",
       "min        1.000000    100.000000\n",
       "25%        4.000000    101.100000\n",
       "50%        7.000000    102.200000\n",
       "75%       10.000000    103.400000\n",
       "max       15.000000    105.000000"
      ]
     },
     "execution_count": 6,
     "metadata": {},
     "output_type": "execute_result"
    }
   ],
   "source": [
    "# sitatistical summary for fields with numbers (age and temperature)\n",
    "df.select_dtypes('number').describe()"
   ]
  },
  {
   "cell_type": "code",
   "execution_count": 7,
   "metadata": {},
   "outputs": [
    {
     "data": {
      "text/plain": [
       "Animal        4\n",
       "Symptom 1    24\n",
       "Symptom 2    24\n",
       "Symptom 3    24\n",
       "Disease       5\n",
       "dtype: int64"
      ]
     },
     "execution_count": 7,
     "metadata": {},
     "output_type": "execute_result"
    }
   ],
   "source": [
    "# counting for unique values in each column\n",
    "df.select_dtypes('object').nunique()"
   ]
  },
  {
   "cell_type": "markdown",
   "metadata": {},
   "source": [
    "looking at the result of the above cell, we can see that we have 4 distinct animals in `\"Animal\"` column\n",
    "and remember that we are only intrested in data about cow. From here we can modify our wrangle function to only return to use cow`s data or we can do it separetly.\n",
    "\n",
    "since there in no much of data clearning work in this dataset, i have decided to extract data abut cow outside the `\"wrangle\"` function"
   ]
  },
  {
   "cell_type": "code",
   "execution_count": 8,
   "metadata": {},
   "outputs": [
    {
     "data": {
      "text/html": [
       "<div>\n",
       "<style scoped>\n",
       "    .dataframe tbody tr th:only-of-type {\n",
       "        vertical-align: middle;\n",
       "    }\n",
       "\n",
       "    .dataframe tbody tr th {\n",
       "        vertical-align: top;\n",
       "    }\n",
       "\n",
       "    .dataframe thead th {\n",
       "        text-align: right;\n",
       "    }\n",
       "</style>\n",
       "<table border=\"1\" class=\"dataframe\">\n",
       "  <thead>\n",
       "    <tr style=\"text-align: right;\">\n",
       "      <th></th>\n",
       "      <th>Animal</th>\n",
       "      <th>Age</th>\n",
       "      <th>Temperature</th>\n",
       "      <th>Symptom 1</th>\n",
       "      <th>Symptom 2</th>\n",
       "      <th>Symptom 3</th>\n",
       "      <th>Disease</th>\n",
       "    </tr>\n",
       "  </thead>\n",
       "  <tbody>\n",
       "    <tr>\n",
       "      <th>0</th>\n",
       "      <td>cow</td>\n",
       "      <td>3</td>\n",
       "      <td>103.1</td>\n",
       "      <td>depression</td>\n",
       "      <td>painless lumps</td>\n",
       "      <td>loss of appetite</td>\n",
       "      <td>pneumonia</td>\n",
       "    </tr>\n",
       "    <tr>\n",
       "      <th>3</th>\n",
       "      <td>cow</td>\n",
       "      <td>14</td>\n",
       "      <td>100.3</td>\n",
       "      <td>loss of appetite</td>\n",
       "      <td>swelling in limb</td>\n",
       "      <td>crackling sound</td>\n",
       "      <td>blackleg</td>\n",
       "    </tr>\n",
       "    <tr>\n",
       "      <th>11</th>\n",
       "      <td>cow</td>\n",
       "      <td>11</td>\n",
       "      <td>103.9</td>\n",
       "      <td>depression</td>\n",
       "      <td>painless lumps</td>\n",
       "      <td>loss of appetite</td>\n",
       "      <td>lumpy virus</td>\n",
       "    </tr>\n",
       "    <tr>\n",
       "      <th>19</th>\n",
       "      <td>cow</td>\n",
       "      <td>14</td>\n",
       "      <td>102.7</td>\n",
       "      <td>shortness of breath</td>\n",
       "      <td>sweats</td>\n",
       "      <td>chills</td>\n",
       "      <td>anthrax</td>\n",
       "    </tr>\n",
       "    <tr>\n",
       "      <th>20</th>\n",
       "      <td>cow</td>\n",
       "      <td>1</td>\n",
       "      <td>103.7</td>\n",
       "      <td>depression</td>\n",
       "      <td>loss of appetite</td>\n",
       "      <td>painless lumps</td>\n",
       "      <td>lumpy virus</td>\n",
       "    </tr>\n",
       "  </tbody>\n",
       "</table>\n",
       "</div>"
      ],
      "text/plain": [
       "   Animal  Age  Temperature            Symptom 1         Symptom 2  \\\n",
       "0     cow    3        103.1           depression    painless lumps   \n",
       "3     cow   14        100.3     loss of appetite  swelling in limb   \n",
       "11    cow   11        103.9           depression    painless lumps   \n",
       "19    cow   14        102.7  shortness of breath            sweats   \n",
       "20    cow    1        103.7           depression  loss of appetite   \n",
       "\n",
       "           Symptom 3      Disease  \n",
       "0   loss of appetite    pneumonia  \n",
       "3    crackling sound     blackleg  \n",
       "11  loss of appetite  lumpy virus  \n",
       "19            chills      anthrax  \n",
       "20    painless lumps  lumpy virus  "
      ]
     },
     "execution_count": 8,
     "metadata": {},
     "output_type": "execute_result"
    }
   ],
   "source": [
    "# subseting the dataset to get only data related to cow\n",
    "\n",
    "cow_df = df[df['Animal'] == 'cow']\n",
    "cow_df.head()"
   ]
  },
  {
   "cell_type": "markdown",
   "metadata": {},
   "source": [
    "now our exploration will continue on our subset `\"cow_df\"`"
   ]
  },
  {
   "cell_type": "code",
   "execution_count": 9,
   "metadata": {},
   "outputs": [
    {
     "name": "stdout",
     "output_type": "stream",
     "text": [
      "cow data shape (11254, 7)\n"
     ]
    }
   ],
   "source": [
    "# let print the shape of our new dataset\n",
    "print('cow data shape', cow_df.shape)\n"
   ]
  },
  {
   "cell_type": "markdown",
   "metadata": {},
   "source": [
    "### split\n",
    "\n",
    "now let split our datset into feature matrix `X` and target vector `y`"
   ]
  },
  {
   "cell_type": "code",
   "execution_count": 10,
   "metadata": {},
   "outputs": [
    {
     "data": {
      "text/html": [
       "<div>\n",
       "<style scoped>\n",
       "    .dataframe tbody tr th:only-of-type {\n",
       "        vertical-align: middle;\n",
       "    }\n",
       "\n",
       "    .dataframe tbody tr th {\n",
       "        vertical-align: top;\n",
       "    }\n",
       "\n",
       "    .dataframe thead th {\n",
       "        text-align: right;\n",
       "    }\n",
       "</style>\n",
       "<table border=\"1\" class=\"dataframe\">\n",
       "  <thead>\n",
       "    <tr style=\"text-align: right;\">\n",
       "      <th></th>\n",
       "      <th>Age</th>\n",
       "      <th>Temperature</th>\n",
       "      <th>Symptom 1</th>\n",
       "      <th>Symptom 2</th>\n",
       "      <th>Symptom 3</th>\n",
       "    </tr>\n",
       "  </thead>\n",
       "  <tbody>\n",
       "    <tr>\n",
       "      <th>0</th>\n",
       "      <td>3</td>\n",
       "      <td>103.1</td>\n",
       "      <td>depression</td>\n",
       "      <td>painless lumps</td>\n",
       "      <td>loss of appetite</td>\n",
       "    </tr>\n",
       "    <tr>\n",
       "      <th>3</th>\n",
       "      <td>14</td>\n",
       "      <td>100.3</td>\n",
       "      <td>loss of appetite</td>\n",
       "      <td>swelling in limb</td>\n",
       "      <td>crackling sound</td>\n",
       "    </tr>\n",
       "    <tr>\n",
       "      <th>11</th>\n",
       "      <td>11</td>\n",
       "      <td>103.9</td>\n",
       "      <td>depression</td>\n",
       "      <td>painless lumps</td>\n",
       "      <td>loss of appetite</td>\n",
       "    </tr>\n",
       "    <tr>\n",
       "      <th>19</th>\n",
       "      <td>14</td>\n",
       "      <td>102.7</td>\n",
       "      <td>shortness of breath</td>\n",
       "      <td>sweats</td>\n",
       "      <td>chills</td>\n",
       "    </tr>\n",
       "    <tr>\n",
       "      <th>20</th>\n",
       "      <td>1</td>\n",
       "      <td>103.7</td>\n",
       "      <td>depression</td>\n",
       "      <td>loss of appetite</td>\n",
       "      <td>painless lumps</td>\n",
       "    </tr>\n",
       "  </tbody>\n",
       "</table>\n",
       "</div>"
      ],
      "text/plain": [
       "    Age  Temperature            Symptom 1         Symptom 2         Symptom 3\n",
       "0     3        103.1           depression    painless lumps  loss of appetite\n",
       "3    14        100.3     loss of appetite  swelling in limb   crackling sound\n",
       "11   11        103.9           depression    painless lumps  loss of appetite\n",
       "19   14        102.7  shortness of breath            sweats            chills\n",
       "20    1        103.7           depression  loss of appetite    painless lumps"
      ]
     },
     "execution_count": 10,
     "metadata": {},
     "output_type": "execute_result"
    }
   ],
   "source": [
    "# creating feature\n",
    "X = cow_df.drop(columns=['Animal','Disease'])\n",
    "X.head()"
   ]
  },
  {
   "cell_type": "code",
   "execution_count": 11,
   "metadata": {},
   "outputs": [
    {
     "data": {
      "text/plain": [
       "(11254,)"
      ]
     },
     "execution_count": 11,
     "metadata": {},
     "output_type": "execute_result"
    }
   ],
   "source": [
    "# creating target vector\n",
    "\n",
    "y=cow_df[cow_df.columns[-1]]\n",
    "y.shape"
   ]
  },
  {
   "cell_type": "markdown",
   "metadata": {},
   "source": [
    "Dividing our data (X and y) into training and test sets using a randomized train-test split"
   ]
  },
  {
   "cell_type": "code",
   "execution_count": 12,
   "metadata": {},
   "outputs": [],
   "source": [
    "X_train, X_test, y_train, y_test = train_test_split(\n",
    "    X,y,test_size=0.2, random_state=42\n",
    ")\n"
   ]
  },
  {
   "cell_type": "markdown",
   "metadata": {},
   "source": [
    "let devide our training data (X_train and y_train) into training and validation sets using a randomized train-test split."
   ]
  },
  {
   "cell_type": "code",
   "execution_count": 13,
   "metadata": {},
   "outputs": [],
   "source": [
    "X_train, X_val, y_train, y_val = train_test_split(\n",
    "    X_train, y_train, test_size=0.2, random_state=42\n",
    ")"
   ]
  },
  {
   "cell_type": "markdown",
   "metadata": {},
   "source": [
    "### Model Build"
   ]
  },
  {
   "cell_type": "markdown",
   "metadata": {},
   "source": [
    "#### Baseline\n",
    "\n",
    "let Calculate the baseline accuracy score for our model.\n",
    "baseline prediction for our model will be the desease with most counts"
   ]
  },
  {
   "cell_type": "code",
   "execution_count": 14,
   "metadata": {},
   "outputs": [
    {
     "name": "stdout",
     "output_type": "stream",
     "text": [
      "Baseline Accuracy: 0.22\n"
     ]
    }
   ],
   "source": [
    "acc_baseline = y_train.value_counts(normalize=True).max()\n",
    "print(\"Baseline Accuracy:\", round(acc_baseline, 2))"
   ]
  },
  {
   "cell_type": "markdown",
   "metadata": {},
   "source": [
    "### Iterate"
   ]
  },
  {
   "cell_type": "code",
   "execution_count": 15,
   "metadata": {},
   "outputs": [
    {
     "data": {
      "text/html": [
       "<style>#sk-container-id-1 {color: black;}#sk-container-id-1 pre{padding: 0;}#sk-container-id-1 div.sk-toggleable {background-color: white;}#sk-container-id-1 label.sk-toggleable__label {cursor: pointer;display: block;width: 100%;margin-bottom: 0;padding: 0.3em;box-sizing: border-box;text-align: center;}#sk-container-id-1 label.sk-toggleable__label-arrow:before {content: \"▸\";float: left;margin-right: 0.25em;color: #696969;}#sk-container-id-1 label.sk-toggleable__label-arrow:hover:before {color: black;}#sk-container-id-1 div.sk-estimator:hover label.sk-toggleable__label-arrow:before {color: black;}#sk-container-id-1 div.sk-toggleable__content {max-height: 0;max-width: 0;overflow: hidden;text-align: left;background-color: #f0f8ff;}#sk-container-id-1 div.sk-toggleable__content pre {margin: 0.2em;color: black;border-radius: 0.25em;background-color: #f0f8ff;}#sk-container-id-1 input.sk-toggleable__control:checked~div.sk-toggleable__content {max-height: 200px;max-width: 100%;overflow: auto;}#sk-container-id-1 input.sk-toggleable__control:checked~label.sk-toggleable__label-arrow:before {content: \"▾\";}#sk-container-id-1 div.sk-estimator input.sk-toggleable__control:checked~label.sk-toggleable__label {background-color: #d4ebff;}#sk-container-id-1 div.sk-label input.sk-toggleable__control:checked~label.sk-toggleable__label {background-color: #d4ebff;}#sk-container-id-1 input.sk-hidden--visually {border: 0;clip: rect(1px 1px 1px 1px);clip: rect(1px, 1px, 1px, 1px);height: 1px;margin: -1px;overflow: hidden;padding: 0;position: absolute;width: 1px;}#sk-container-id-1 div.sk-estimator {font-family: monospace;background-color: #f0f8ff;border: 1px dotted black;border-radius: 0.25em;box-sizing: border-box;margin-bottom: 0.5em;}#sk-container-id-1 div.sk-estimator:hover {background-color: #d4ebff;}#sk-container-id-1 div.sk-parallel-item::after {content: \"\";width: 100%;border-bottom: 1px solid gray;flex-grow: 1;}#sk-container-id-1 div.sk-label:hover label.sk-toggleable__label {background-color: #d4ebff;}#sk-container-id-1 div.sk-serial::before {content: \"\";position: absolute;border-left: 1px solid gray;box-sizing: border-box;top: 0;bottom: 0;left: 50%;z-index: 0;}#sk-container-id-1 div.sk-serial {display: flex;flex-direction: column;align-items: center;background-color: white;padding-right: 0.2em;padding-left: 0.2em;position: relative;}#sk-container-id-1 div.sk-item {position: relative;z-index: 1;}#sk-container-id-1 div.sk-parallel {display: flex;align-items: stretch;justify-content: center;background-color: white;position: relative;}#sk-container-id-1 div.sk-item::before, #sk-container-id-1 div.sk-parallel-item::before {content: \"\";position: absolute;border-left: 1px solid gray;box-sizing: border-box;top: 0;bottom: 0;left: 50%;z-index: -1;}#sk-container-id-1 div.sk-parallel-item {display: flex;flex-direction: column;z-index: 1;position: relative;background-color: white;}#sk-container-id-1 div.sk-parallel-item:first-child::after {align-self: flex-end;width: 50%;}#sk-container-id-1 div.sk-parallel-item:last-child::after {align-self: flex-start;width: 50%;}#sk-container-id-1 div.sk-parallel-item:only-child::after {width: 0;}#sk-container-id-1 div.sk-dashed-wrapped {border: 1px dashed gray;margin: 0 0.4em 0.5em 0.4em;box-sizing: border-box;padding-bottom: 0.4em;background-color: white;}#sk-container-id-1 div.sk-label label {font-family: monospace;font-weight: bold;display: inline-block;line-height: 1.2em;}#sk-container-id-1 div.sk-label-container {text-align: center;}#sk-container-id-1 div.sk-container {/* jupyter's `normalize.less` sets `[hidden] { display: none; }` but bootstrap.min.css set `[hidden] { display: none !important; }` so we also need the `!important` here to be able to override the default hidden behavior on the sphinx rendered scikit-learn.org. See: https://github.com/scikit-learn/scikit-learn/issues/21755 */display: inline-block !important;position: relative;}#sk-container-id-1 div.sk-text-repr-fallback {display: none;}</style><div id=\"sk-container-id-1\" class=\"sk-top-container\"><div class=\"sk-text-repr-fallback\"><pre>Pipeline(steps=[(&#x27;ordinalencoder&#x27;,\n",
       "                 OrdinalEncoder(cols=[&#x27;Symptom 1&#x27;, &#x27;Symptom 2&#x27;, &#x27;Symptom 3&#x27;],\n",
       "                                mapping=[{&#x27;col&#x27;: &#x27;Symptom 1&#x27;,\n",
       "                                          &#x27;data_type&#x27;: dtype(&#x27;O&#x27;),\n",
       "                                          &#x27;mapping&#x27;: painless lumps              1\n",
       "depression                  2\n",
       "sweats                      3\n",
       "chills                      4\n",
       "loss of appetite            5\n",
       "shortness of breath         6\n",
       "lameness                    7\n",
       "swelling in muscle          8\n",
       "blisters on gums            9\n",
       "crackling sound            10\n",
       "fatigue                    11\n",
       "difficulty walking         12\n",
       "swelling in abdomen        13\n",
       "swelling in extremities    14\n",
       "sw...\n",
       "chest discomfort            8\n",
       "crackling sound             9\n",
       "loss of appetite           10\n",
       "lameness                   11\n",
       "fatigue                    12\n",
       "sweats                     13\n",
       "blisters on gums           14\n",
       "sores on gums              15\n",
       "blisters on mouth          16\n",
       "swelling in extremities    17\n",
       "blisters on hooves         18\n",
       "shortness of breath        19\n",
       "swelling in muscle         20\n",
       "swelling in limb           21\n",
       "sores on hooves            22\n",
       "blisters on tongue         23\n",
       "sores on tongue            24\n",
       "NaN                        -2\n",
       "dtype: int64}])),\n",
       "                (&#x27;decisiontreeclassifier&#x27;,\n",
       "                 DecisionTreeClassifier(random_state=42))])</pre><b>In a Jupyter environment, please rerun this cell to show the HTML representation or trust the notebook. <br />On GitHub, the HTML representation is unable to render, please try loading this page with nbviewer.org.</b></div><div class=\"sk-container\" hidden><div class=\"sk-item sk-dashed-wrapped\"><div class=\"sk-label-container\"><div class=\"sk-label sk-toggleable\"><input class=\"sk-toggleable__control sk-hidden--visually\" id=\"sk-estimator-id-1\" type=\"checkbox\" ><label for=\"sk-estimator-id-1\" class=\"sk-toggleable__label sk-toggleable__label-arrow\">Pipeline</label><div class=\"sk-toggleable__content\"><pre>Pipeline(steps=[(&#x27;ordinalencoder&#x27;,\n",
       "                 OrdinalEncoder(cols=[&#x27;Symptom 1&#x27;, &#x27;Symptom 2&#x27;, &#x27;Symptom 3&#x27;],\n",
       "                                mapping=[{&#x27;col&#x27;: &#x27;Symptom 1&#x27;,\n",
       "                                          &#x27;data_type&#x27;: dtype(&#x27;O&#x27;),\n",
       "                                          &#x27;mapping&#x27;: painless lumps              1\n",
       "depression                  2\n",
       "sweats                      3\n",
       "chills                      4\n",
       "loss of appetite            5\n",
       "shortness of breath         6\n",
       "lameness                    7\n",
       "swelling in muscle          8\n",
       "blisters on gums            9\n",
       "crackling sound            10\n",
       "fatigue                    11\n",
       "difficulty walking         12\n",
       "swelling in abdomen        13\n",
       "swelling in extremities    14\n",
       "sw...\n",
       "chest discomfort            8\n",
       "crackling sound             9\n",
       "loss of appetite           10\n",
       "lameness                   11\n",
       "fatigue                    12\n",
       "sweats                     13\n",
       "blisters on gums           14\n",
       "sores on gums              15\n",
       "blisters on mouth          16\n",
       "swelling in extremities    17\n",
       "blisters on hooves         18\n",
       "shortness of breath        19\n",
       "swelling in muscle         20\n",
       "swelling in limb           21\n",
       "sores on hooves            22\n",
       "blisters on tongue         23\n",
       "sores on tongue            24\n",
       "NaN                        -2\n",
       "dtype: int64}])),\n",
       "                (&#x27;decisiontreeclassifier&#x27;,\n",
       "                 DecisionTreeClassifier(random_state=42))])</pre></div></div></div><div class=\"sk-serial\"><div class=\"sk-item\"><div class=\"sk-estimator sk-toggleable\"><input class=\"sk-toggleable__control sk-hidden--visually\" id=\"sk-estimator-id-2\" type=\"checkbox\" ><label for=\"sk-estimator-id-2\" class=\"sk-toggleable__label sk-toggleable__label-arrow\">OrdinalEncoder</label><div class=\"sk-toggleable__content\"><pre>OrdinalEncoder(cols=[&#x27;Symptom 1&#x27;, &#x27;Symptom 2&#x27;, &#x27;Symptom 3&#x27;],\n",
       "               mapping=[{&#x27;col&#x27;: &#x27;Symptom 1&#x27;, &#x27;data_type&#x27;: dtype(&#x27;O&#x27;),\n",
       "                         &#x27;mapping&#x27;: painless lumps              1\n",
       "depression                  2\n",
       "sweats                      3\n",
       "chills                      4\n",
       "loss of appetite            5\n",
       "shortness of breath         6\n",
       "lameness                    7\n",
       "swelling in muscle          8\n",
       "blisters on gums            9\n",
       "crackling sound            10\n",
       "fatigue                    11\n",
       "difficulty walking         12\n",
       "swelling in abdomen        13\n",
       "swelling in extremities    14\n",
       "swelling in limb           15\n",
       "chest discomfort           16\n",
       "bli...\n",
       "swelling in abdomen         3\n",
       "swelling in neck            4\n",
       "difficulty walking          5\n",
       "chills                      6\n",
       "sores on mouth              7\n",
       "chest discomfort            8\n",
       "crackling sound             9\n",
       "loss of appetite           10\n",
       "lameness                   11\n",
       "fatigue                    12\n",
       "sweats                     13\n",
       "blisters on gums           14\n",
       "sores on gums              15\n",
       "blisters on mouth          16\n",
       "swelling in extremities    17\n",
       "blisters on hooves         18\n",
       "shortness of breath        19\n",
       "swelling in muscle         20\n",
       "swelling in limb           21\n",
       "sores on hooves            22\n",
       "blisters on tongue         23\n",
       "sores on tongue            24\n",
       "NaN                        -2\n",
       "dtype: int64}])</pre></div></div></div><div class=\"sk-item\"><div class=\"sk-estimator sk-toggleable\"><input class=\"sk-toggleable__control sk-hidden--visually\" id=\"sk-estimator-id-3\" type=\"checkbox\" ><label for=\"sk-estimator-id-3\" class=\"sk-toggleable__label sk-toggleable__label-arrow\">DecisionTreeClassifier</label><div class=\"sk-toggleable__content\"><pre>DecisionTreeClassifier(random_state=42)</pre></div></div></div></div></div></div></div>"
      ],
      "text/plain": [
       "Pipeline(steps=[('ordinalencoder',\n",
       "                 OrdinalEncoder(cols=['Symptom 1', 'Symptom 2', 'Symptom 3'],\n",
       "                                mapping=[{'col': 'Symptom 1',\n",
       "                                          'data_type': dtype('O'),\n",
       "                                          'mapping': painless lumps              1\n",
       "depression                  2\n",
       "sweats                      3\n",
       "chills                      4\n",
       "loss of appetite            5\n",
       "shortness of breath         6\n",
       "lameness                    7\n",
       "swelling in muscle          8\n",
       "blisters on gums            9\n",
       "crackling sound            10\n",
       "fatigue                    11\n",
       "difficulty walking         12\n",
       "swelling in abdomen        13\n",
       "swelling in extremities    14\n",
       "sw...\n",
       "chest discomfort            8\n",
       "crackling sound             9\n",
       "loss of appetite           10\n",
       "lameness                   11\n",
       "fatigue                    12\n",
       "sweats                     13\n",
       "blisters on gums           14\n",
       "sores on gums              15\n",
       "blisters on mouth          16\n",
       "swelling in extremities    17\n",
       "blisters on hooves         18\n",
       "shortness of breath        19\n",
       "swelling in muscle         20\n",
       "swelling in limb           21\n",
       "sores on hooves            22\n",
       "blisters on tongue         23\n",
       "sores on tongue            24\n",
       "NaN                        -2\n",
       "dtype: int64}])),\n",
       "                ('decisiontreeclassifier',\n",
       "                 DecisionTreeClassifier(random_state=42))])"
      ]
     },
     "execution_count": 15,
     "metadata": {},
     "output_type": "execute_result"
    }
   ],
   "source": [
    "# creating pipeline\n",
    "model = make_pipeline(\n",
    "    OrdinalEncoder(),\n",
    "    DecisionTreeClassifier(random_state=42)\n",
    ")\n",
    "\n",
    "# fitting our model\n",
    "model.fit(X_train,y_train)"
   ]
  },
  {
   "cell_type": "markdown",
   "metadata": {},
   "source": [
    "Now let calculate the accuracy of our model on traing, test and validation data\n"
   ]
  },
  {
   "cell_type": "code",
   "execution_count": 16,
   "metadata": {},
   "outputs": [
    {
     "name": "stdout",
     "output_type": "stream",
     "text": [
      "Training Accuracy: 0.95\n",
      "Test Accuracy: 0.79\n",
      "Validation Accuracy: 0.78\n"
     ]
    }
   ],
   "source": [
    "accuracy_train = model.score(X_train,y_train)\n",
    "accuracy_test = model.score(X_test,y_test)\n",
    "accuracy_val = model.score(X_val,y_val)\n",
    "\n",
    "print(\"Training Accuracy:\", round(accuracy_train, 2))\n",
    "print(\"Test Accuracy:\", round(accuracy_test, 2))\n",
    "print(\"Validation Accuracy:\", round(accuracy_val, 2))"
   ]
  },
  {
   "cell_type": "markdown",
   "metadata": {},
   "source": [
    "looking at our accuracy score we can tell that our model is performing well on test and validation data"
   ]
  },
  {
   "cell_type": "markdown",
   "metadata": {},
   "source": [
    "now let explore our model to see its depth"
   ]
  },
  {
   "cell_type": "code",
   "execution_count": 17,
   "metadata": {},
   "outputs": [
    {
     "name": "stdout",
     "output_type": "stream",
     "text": [
      "24\n"
     ]
    }
   ],
   "source": [
    "depth = model.named_steps['decisiontreeclassifier'].get_depth()\n",
    "print(depth)"
   ]
  },
  {
   "cell_type": "markdown",
   "metadata": {},
   "source": [
    "as we can see our tree has depth of `24` and it is performing well, but we can ask ourself something like, is this the best score our model can give or is this the best depth ??\n",
    "\n",
    "so,let find the answers."
   ]
  },
  {
   "cell_type": "code",
   "execution_count": 18,
   "metadata": {},
   "outputs": [],
   "source": [
    "tree_depth = range(1,50,2)"
   ]
  },
  {
   "cell_type": "code",
   "execution_count": 19,
   "metadata": {},
   "outputs": [],
   "source": [
    "# lett create 3 lists to store our trainning,test and validation scores \n",
    "trainning_acc = []\n",
    "test_acc = []\n",
    "validation_acc = []\n",
    "\n",
    "# let create a for loop to generate all those accuracy score\n",
    "\n",
    "for d in tree_depth:\n",
    "    # creating our modified pipeline\n",
    "    modified_model = make_pipeline(\n",
    "        OrdinalEncoder(),\n",
    "        DecisionTreeClassifier(max_depth=d, random_state=42)\n",
    "    )\n",
    "    \n",
    "    # let fit our model\n",
    "    modified_model.fit(X_train,y_train)\n",
    "    \n",
    "    # accuracy calculations\n",
    "    trainning_acc.append(modified_model.score(X_train,y_train))\n",
    "    test_acc.append(modified_model.score(X_test,y_test))\n",
    "    validation_acc.append(modified_model.score(X_val,y_val))"
   ]
  },
  {
   "cell_type": "markdown",
   "metadata": {},
   "source": [
    "now let plot them on graph for visual representation"
   ]
  },
  {
   "cell_type": "code",
   "execution_count": 20,
   "metadata": {},
   "outputs": [
    {
     "data": {
      "image/png": "[encoded data removed]",
      "text/plain": [
       "<Figure size 640x480 with 1 Axes>"
      ]
     },
     "metadata": {},
     "output_type": "display_data"
    }
   ],
   "source": [
    "plt.plot(tree_depth,trainning_acc,label='Trainning')\n",
    "plt.plot(tree_depth,test_acc,label='Testing')\n",
    "plt.plot(tree_depth,validation_acc,label='Validation')\n",
    "plt.legend();"
   ]
  },
  {
   "cell_type": "code",
   "execution_count": 21,
   "metadata": {},
   "outputs": [
    {
     "name": "stdout",
     "output_type": "stream",
     "text": [
      "1 0.32704053303720154\n",
      "3 0.5230427540255413\n",
      "5 0.6524153248195447\n",
      "7 0.7401443642420877\n",
      "9 0.77623542476402\n",
      "11 0.7856746252082176\n",
      "13 0.7895613548028872\n",
      "15 0.7828983897834536\n",
      "17 0.7773459189339256\n",
      "19 0.7751249305941144\n",
      "21 0.7756801776790672\n",
      "23 0.7745696835091616\n",
      "25 0.7751249305941144\n",
      "27 0.7751249305941144\n",
      "29 0.7751249305941144\n",
      "31 0.7751249305941144\n",
      "33 0.7751249305941144\n",
      "35 0.7751249305941144\n",
      "37 0.7751249305941144\n",
      "39 0.7751249305941144\n",
      "41 0.7751249305941144\n",
      "43 0.7751249305941144\n",
      "45 0.7751249305941144\n",
      "47 0.7751249305941144\n",
      "49 0.7751249305941144\n"
     ]
    }
   ],
   "source": [
    "# let find out which depth scored high\n",
    "for i,j in zip(validation_acc,tree_depth):\n",
    "    print(j,i)"
   ]
  },
  {
   "cell_type": "markdown",
   "metadata": {},
   "source": [
    "now let us create our final model, by setting our max_dept to `13`"
   ]
  },
  {
   "cell_type": "code",
   "execution_count": 22,
   "metadata": {},
   "outputs": [
    {
     "data": {
      "text/html": [
       "<style>#sk-container-id-2 {color: black;}#sk-container-id-2 pre{padding: 0;}#sk-container-id-2 div.sk-toggleable {background-color: white;}#sk-container-id-2 label.sk-toggleable__label {cursor: pointer;display: block;width: 100%;margin-bottom: 0;padding: 0.3em;box-sizing: border-box;text-align: center;}#sk-container-id-2 label.sk-toggleable__label-arrow:before {content: \"▸\";float: left;margin-right: 0.25em;color: #696969;}#sk-container-id-2 label.sk-toggleable__label-arrow:hover:before {color: black;}#sk-container-id-2 div.sk-estimator:hover label.sk-toggleable__label-arrow:before {color: black;}#sk-container-id-2 div.sk-toggleable__content {max-height: 0;max-width: 0;overflow: hidden;text-align: left;background-color: #f0f8ff;}#sk-container-id-2 div.sk-toggleable__content pre {margin: 0.2em;color: black;border-radius: 0.25em;background-color: #f0f8ff;}#sk-container-id-2 input.sk-toggleable__control:checked~div.sk-toggleable__content {max-height: 200px;max-width: 100%;overflow: auto;}#sk-container-id-2 input.sk-toggleable__control:checked~label.sk-toggleable__label-arrow:before {content: \"▾\";}#sk-container-id-2 div.sk-estimator input.sk-toggleable__control:checked~label.sk-toggleable__label {background-color: #d4ebff;}#sk-container-id-2 div.sk-label input.sk-toggleable__control:checked~label.sk-toggleable__label {background-color: #d4ebff;}#sk-container-id-2 input.sk-hidden--visually {border: 0;clip: rect(1px 1px 1px 1px);clip: rect(1px, 1px, 1px, 1px);height: 1px;margin: -1px;overflow: hidden;padding: 0;position: absolute;width: 1px;}#sk-container-id-2 div.sk-estimator {font-family: monospace;background-color: #f0f8ff;border: 1px dotted black;border-radius: 0.25em;box-sizing: border-box;margin-bottom: 0.5em;}#sk-container-id-2 div.sk-estimator:hover {background-color: #d4ebff;}#sk-container-id-2 div.sk-parallel-item::after {content: \"\";width: 100%;border-bottom: 1px solid gray;flex-grow: 1;}#sk-container-id-2 div.sk-label:hover label.sk-toggleable__label {background-color: #d4ebff;}#sk-container-id-2 div.sk-serial::before {content: \"\";position: absolute;border-left: 1px solid gray;box-sizing: border-box;top: 0;bottom: 0;left: 50%;z-index: 0;}#sk-container-id-2 div.sk-serial {display: flex;flex-direction: column;align-items: center;background-color: white;padding-right: 0.2em;padding-left: 0.2em;position: relative;}#sk-container-id-2 div.sk-item {position: relative;z-index: 1;}#sk-container-id-2 div.sk-parallel {display: flex;align-items: stretch;justify-content: center;background-color: white;position: relative;}#sk-container-id-2 div.sk-item::before, #sk-container-id-2 div.sk-parallel-item::before {content: \"\";position: absolute;border-left: 1px solid gray;box-sizing: border-box;top: 0;bottom: 0;left: 50%;z-index: -1;}#sk-container-id-2 div.sk-parallel-item {display: flex;flex-direction: column;z-index: 1;position: relative;background-color: white;}#sk-container-id-2 div.sk-parallel-item:first-child::after {align-self: flex-end;width: 50%;}#sk-container-id-2 div.sk-parallel-item:last-child::after {align-self: flex-start;width: 50%;}#sk-container-id-2 div.sk-parallel-item:only-child::after {width: 0;}#sk-container-id-2 div.sk-dashed-wrapped {border: 1px dashed gray;margin: 0 0.4em 0.5em 0.4em;box-sizing: border-box;padding-bottom: 0.4em;background-color: white;}#sk-container-id-2 div.sk-label label {font-family: monospace;font-weight: bold;display: inline-block;line-height: 1.2em;}#sk-container-id-2 div.sk-label-container {text-align: center;}#sk-container-id-2 div.sk-container {/* jupyter's `normalize.less` sets `[hidden] { display: none; }` but bootstrap.min.css set `[hidden] { display: none !important; }` so we also need the `!important` here to be able to override the default hidden behavior on the sphinx rendered scikit-learn.org. See: https://github.com/scikit-learn/scikit-learn/issues/21755 */display: inline-block !important;position: relative;}#sk-container-id-2 div.sk-text-repr-fallback {display: none;}</style><div id=\"sk-container-id-2\" class=\"sk-top-container\"><div class=\"sk-text-repr-fallback\"><pre>Pipeline(steps=[(&#x27;ordinalencoder&#x27;,\n",
       "                 OrdinalEncoder(cols=[&#x27;Symptom 1&#x27;, &#x27;Symptom 2&#x27;, &#x27;Symptom 3&#x27;],\n",
       "                                mapping=[{&#x27;col&#x27;: &#x27;Symptom 1&#x27;,\n",
       "                                          &#x27;data_type&#x27;: dtype(&#x27;O&#x27;),\n",
       "                                          &#x27;mapping&#x27;: painless lumps              1\n",
       "depression                  2\n",
       "sweats                      3\n",
       "chills                      4\n",
       "loss of appetite            5\n",
       "shortness of breath         6\n",
       "lameness                    7\n",
       "swelling in muscle          8\n",
       "blisters on gums            9\n",
       "crackling sound            10\n",
       "fatigue                    11\n",
       "difficulty walking         12\n",
       "swelling in abdomen        13\n",
       "swelling in extremities    14\n",
       "sw...\n",
       "chest discomfort            8\n",
       "crackling sound             9\n",
       "loss of appetite           10\n",
       "lameness                   11\n",
       "fatigue                    12\n",
       "sweats                     13\n",
       "blisters on gums           14\n",
       "sores on gums              15\n",
       "blisters on mouth          16\n",
       "swelling in extremities    17\n",
       "blisters on hooves         18\n",
       "shortness of breath        19\n",
       "swelling in muscle         20\n",
       "swelling in limb           21\n",
       "sores on hooves            22\n",
       "blisters on tongue         23\n",
       "sores on tongue            24\n",
       "NaN                        -2\n",
       "dtype: int64}])),\n",
       "                (&#x27;decisiontreeclassifier&#x27;,\n",
       "                 DecisionTreeClassifier(max_depth=13, random_state=42))])</pre><b>In a Jupyter environment, please rerun this cell to show the HTML representation or trust the notebook. <br />On GitHub, the HTML representation is unable to render, please try loading this page with nbviewer.org.</b></div><div class=\"sk-container\" hidden><div class=\"sk-item sk-dashed-wrapped\"><div class=\"sk-label-container\"><div class=\"sk-label sk-toggleable\"><input class=\"sk-toggleable__control sk-hidden--visually\" id=\"sk-estimator-id-4\" type=\"checkbox\" ><label for=\"sk-estimator-id-4\" class=\"sk-toggleable__label sk-toggleable__label-arrow\">Pipeline</label><div class=\"sk-toggleable__content\"><pre>Pipeline(steps=[(&#x27;ordinalencoder&#x27;,\n",
       "                 OrdinalEncoder(cols=[&#x27;Symptom 1&#x27;, &#x27;Symptom 2&#x27;, &#x27;Symptom 3&#x27;],\n",
       "                                mapping=[{&#x27;col&#x27;: &#x27;Symptom 1&#x27;,\n",
       "                                          &#x27;data_type&#x27;: dtype(&#x27;O&#x27;),\n",
       "                                          &#x27;mapping&#x27;: painless lumps              1\n",
       "depression                  2\n",
       "sweats                      3\n",
       "chills                      4\n",
       "loss of appetite            5\n",
       "shortness of breath         6\n",
       "lameness                    7\n",
       "swelling in muscle          8\n",
       "blisters on gums            9\n",
       "crackling sound            10\n",
       "fatigue                    11\n",
       "difficulty walking         12\n",
       "swelling in abdomen        13\n",
       "swelling in extremities    14\n",
       "sw...\n",
       "chest discomfort            8\n",
       "crackling sound             9\n",
       "loss of appetite           10\n",
       "lameness                   11\n",
       "fatigue                    12\n",
       "sweats                     13\n",
       "blisters on gums           14\n",
       "sores on gums              15\n",
       "blisters on mouth          16\n",
       "swelling in extremities    17\n",
       "blisters on hooves         18\n",
       "shortness of breath        19\n",
       "swelling in muscle         20\n",
       "swelling in limb           21\n",
       "sores on hooves            22\n",
       "blisters on tongue         23\n",
       "sores on tongue            24\n",
       "NaN                        -2\n",
       "dtype: int64}])),\n",
       "                (&#x27;decisiontreeclassifier&#x27;,\n",
       "                 DecisionTreeClassifier(max_depth=13, random_state=42))])</pre></div></div></div><div class=\"sk-serial\"><div class=\"sk-item\"><div class=\"sk-estimator sk-toggleable\"><input class=\"sk-toggleable__control sk-hidden--visually\" id=\"sk-estimator-id-5\" type=\"checkbox\" ><label for=\"sk-estimator-id-5\" class=\"sk-toggleable__label sk-toggleable__label-arrow\">OrdinalEncoder</label><div class=\"sk-toggleable__content\"><pre>OrdinalEncoder(cols=[&#x27;Symptom 1&#x27;, &#x27;Symptom 2&#x27;, &#x27;Symptom 3&#x27;],\n",
       "               mapping=[{&#x27;col&#x27;: &#x27;Symptom 1&#x27;, &#x27;data_type&#x27;: dtype(&#x27;O&#x27;),\n",
       "                         &#x27;mapping&#x27;: painless lumps              1\n",
       "depression                  2\n",
       "sweats                      3\n",
       "chills                      4\n",
       "loss of appetite            5\n",
       "shortness of breath         6\n",
       "lameness                    7\n",
       "swelling in muscle          8\n",
       "blisters on gums            9\n",
       "crackling sound            10\n",
       "fatigue                    11\n",
       "difficulty walking         12\n",
       "swelling in abdomen        13\n",
       "swelling in extremities    14\n",
       "swelling in limb           15\n",
       "chest discomfort           16\n",
       "bli...\n",
       "swelling in abdomen         3\n",
       "swelling in neck            4\n",
       "difficulty walking          5\n",
       "chills                      6\n",
       "sores on mouth              7\n",
       "chest discomfort            8\n",
       "crackling sound             9\n",
       "loss of appetite           10\n",
       "lameness                   11\n",
       "fatigue                    12\n",
       "sweats                     13\n",
       "blisters on gums           14\n",
       "sores on gums              15\n",
       "blisters on mouth          16\n",
       "swelling in extremities    17\n",
       "blisters on hooves         18\n",
       "shortness of breath        19\n",
       "swelling in muscle         20\n",
       "swelling in limb           21\n",
       "sores on hooves            22\n",
       "blisters on tongue         23\n",
       "sores on tongue            24\n",
       "NaN                        -2\n",
       "dtype: int64}])</pre></div></div></div><div class=\"sk-item\"><div class=\"sk-estimator sk-toggleable\"><input class=\"sk-toggleable__control sk-hidden--visually\" id=\"sk-estimator-id-6\" type=\"checkbox\" ><label for=\"sk-estimator-id-6\" class=\"sk-toggleable__label sk-toggleable__label-arrow\">DecisionTreeClassifier</label><div class=\"sk-toggleable__content\"><pre>DecisionTreeClassifier(max_depth=13, random_state=42)</pre></div></div></div></div></div></div></div>"
      ],
      "text/plain": [
       "Pipeline(steps=[('ordinalencoder',\n",
       "                 OrdinalEncoder(cols=['Symptom 1', 'Symptom 2', 'Symptom 3'],\n",
       "                                mapping=[{'col': 'Symptom 1',\n",
       "                                          'data_type': dtype('O'),\n",
       "                                          'mapping': painless lumps              1\n",
       "depression                  2\n",
       "sweats                      3\n",
       "chills                      4\n",
       "loss of appetite            5\n",
       "shortness of breath         6\n",
       "lameness                    7\n",
       "swelling in muscle          8\n",
       "blisters on gums            9\n",
       "crackling sound            10\n",
       "fatigue                    11\n",
       "difficulty walking         12\n",
       "swelling in abdomen        13\n",
       "swelling in extremities    14\n",
       "sw...\n",
       "chest discomfort            8\n",
       "crackling sound             9\n",
       "loss of appetite           10\n",
       "lameness                   11\n",
       "fatigue                    12\n",
       "sweats                     13\n",
       "blisters on gums           14\n",
       "sores on gums              15\n",
       "blisters on mouth          16\n",
       "swelling in extremities    17\n",
       "blisters on hooves         18\n",
       "shortness of breath        19\n",
       "swelling in muscle         20\n",
       "swelling in limb           21\n",
       "sores on hooves            22\n",
       "blisters on tongue         23\n",
       "sores on tongue            24\n",
       "NaN                        -2\n",
       "dtype: int64}])),\n",
       "                ('decisiontreeclassifier',\n",
       "                 DecisionTreeClassifier(max_depth=13, random_state=42))])"
      ]
     },
     "execution_count": 22,
     "metadata": {},
     "output_type": "execute_result"
    }
   ],
   "source": [
    "final_model = make_pipeline(\n",
    "    OrdinalEncoder(),\n",
    "    DecisionTreeClassifier(max_depth=13,random_state=42)\n",
    ")\n",
    "final_model.fit(X_train,y_train)"
   ]
  },
  {
   "cell_type": "code",
   "execution_count": 23,
   "metadata": {},
   "outputs": [
    {
     "data": {
      "text/plain": [
       "0.79"
      ]
     },
     "execution_count": 23,
     "metadata": {},
     "output_type": "execute_result"
    }
   ],
   "source": [
    "# validation score of our final model\n",
    "\n",
    "final_model.score(X_val,y_val).round(2)"
   ]
  },
  {
   "cell_type": "markdown",
   "metadata": {},
   "source": [
    "### testing our model with random data"
   ]
  },
  {
   "cell_type": "code",
   "execution_count": 57,
   "metadata": {},
   "outputs": [
    {
     "name": "stdout",
     "output_type": "stream",
     "text": [
      "Predicted disease: anthrax\n"
     ]
    }
   ],
   "source": [
    "def transf(Age,Temperature,Symptom1,Symptom2,Symptom3):\n",
    "    y =pd.DataFrame([{\n",
    "    'Age':Age,\n",
    "    'Temperature':Temperature,\n",
    "    'Symptom 1':Symptom1,\n",
    "    'Symptom 2':Symptom2,\n",
    "    'Symptom 3':Symptom3}])\n",
    "    return y\n",
    "\n",
    "result = final_model.predict(transf(3,101.4,'shortness of breath','sweats','chills'))[0]\n",
    "print('Predicted disease:',result)"
   ]
  },
  {
   "cell_type": "code",
   "execution_count": null,
   "metadata": {},
   "outputs": [],
   "source": []
  },
  {
   "cell_type": "code",
   "execution_count": null,
   "metadata": {},
   "outputs": [],
   "source": []
  },
  {
   "cell_type": "code",
   "execution_count": null,
   "metadata": {},
   "outputs": [],
   "source": []
  }
 ],
 "metadata": {
  "kernelspec": {
   "display_name": "base",
   "language": "python",
   "name": "python3"
  },
  "language_info": {
   "codemirror_mode": {
    "name": "ipython",
    "version": 3
   },
   "file_extension": ".py",
   "mimetype": "text/x-python",
   "name": "python",
   "nbconvert_exporter": "python",
   "pygments_lexer": "ipython3",
   "version": "3.11.4"
  }
 },
 "nbformat": 4,
 "nbformat_minor": 2
}
