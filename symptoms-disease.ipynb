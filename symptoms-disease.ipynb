{
 "cells": [
  {
   "cell_type": "code",
   "execution_count": 1,
   "metadata": {},
   "outputs": [],
   "source": [
    "import pandas as pd\n",
    "import nltk\n",
    "from nltk.corpus import stopwords\n",
    "from nltk.stem import WordNetLemmatizer\n",
    "import re\n",
    "\n"
   ]
  },
  {
   "cell_type": "code",
   "execution_count": 2,
   "metadata": {},
   "outputs": [],
   "source": [
    "#  loading the data\n",
    "\n",
    "data = pd.read_csv(\"datasets/animal_disease_dataset.csv\")\n"
   ]
  },
  {
   "cell_type": "code",
   "execution_count": 3,
   "metadata": {},
   "outputs": [
    {
     "data": {
      "text/html": [
       "<div>\n",
       "<style scoped>\n",
       "    .dataframe tbody tr th:only-of-type {\n",
       "        vertical-align: middle;\n",
       "    }\n",
       "\n",
       "    .dataframe tbody tr th {\n",
       "        vertical-align: top;\n",
       "    }\n",
       "\n",
       "    .dataframe thead th {\n",
       "        text-align: right;\n",
       "    }\n",
       "</style>\n",
       "<table border=\"1\" class=\"dataframe\">\n",
       "  <thead>\n",
       "    <tr style=\"text-align: right;\">\n",
       "      <th></th>\n",
       "      <th>Animal</th>\n",
       "      <th>Age</th>\n",
       "      <th>Temperature</th>\n",
       "      <th>Symptom 1</th>\n",
       "      <th>Symptom 2</th>\n",
       "      <th>Symptom 3</th>\n",
       "      <th>Disease</th>\n",
       "    </tr>\n",
       "  </thead>\n",
       "  <tbody>\n",
       "    <tr>\n",
       "      <th>0</th>\n",
       "      <td>cow</td>\n",
       "      <td>3</td>\n",
       "      <td>103.1</td>\n",
       "      <td>depression</td>\n",
       "      <td>painless lumps</td>\n",
       "      <td>loss of appetite</td>\n",
       "      <td>pneumonia</td>\n",
       "    </tr>\n",
       "    <tr>\n",
       "      <th>1</th>\n",
       "      <td>buffalo</td>\n",
       "      <td>13</td>\n",
       "      <td>104.5</td>\n",
       "      <td>painless lumps</td>\n",
       "      <td>loss of appetite</td>\n",
       "      <td>depression</td>\n",
       "      <td>lumpy virus</td>\n",
       "    </tr>\n",
       "    <tr>\n",
       "      <th>2</th>\n",
       "      <td>sheep</td>\n",
       "      <td>1</td>\n",
       "      <td>100.5</td>\n",
       "      <td>depression</td>\n",
       "      <td>painless lumps</td>\n",
       "      <td>loss of appetite</td>\n",
       "      <td>lumpy virus</td>\n",
       "    </tr>\n",
       "    <tr>\n",
       "      <th>3</th>\n",
       "      <td>cow</td>\n",
       "      <td>14</td>\n",
       "      <td>100.3</td>\n",
       "      <td>loss of appetite</td>\n",
       "      <td>swelling in limb</td>\n",
       "      <td>crackling sound</td>\n",
       "      <td>blackleg</td>\n",
       "    </tr>\n",
       "    <tr>\n",
       "      <th>4</th>\n",
       "      <td>sheep</td>\n",
       "      <td>2</td>\n",
       "      <td>103.6</td>\n",
       "      <td>painless lumps</td>\n",
       "      <td>loss of appetite</td>\n",
       "      <td>depression</td>\n",
       "      <td>pneumonia</td>\n",
       "    </tr>\n",
       "  </tbody>\n",
       "</table>\n",
       "</div>"
      ],
      "text/plain": [
       "    Animal  Age  Temperature         Symptom 1         Symptom 2  \\\n",
       "0      cow    3        103.1        depression    painless lumps   \n",
       "1  buffalo   13        104.5    painless lumps  loss of appetite   \n",
       "2    sheep    1        100.5        depression    painless lumps   \n",
       "3      cow   14        100.3  loss of appetite  swelling in limb   \n",
       "4    sheep    2        103.6    painless lumps  loss of appetite   \n",
       "\n",
       "          Symptom 3      Disease  \n",
       "0  loss of appetite    pneumonia  \n",
       "1        depression  lumpy virus  \n",
       "2  loss of appetite  lumpy virus  \n",
       "3   crackling sound     blackleg  \n",
       "4        depression    pneumonia  "
      ]
     },
     "execution_count": 3,
     "metadata": {},
     "output_type": "execute_result"
    }
   ],
   "source": [
    "# EDX\n",
    "data.head()"
   ]
  },
  {
   "cell_type": "code",
   "execution_count": 4,
   "metadata": {},
   "outputs": [
    {
     "name": "stdout",
     "output_type": "stream",
     "text": [
      "<class 'pandas.core.frame.DataFrame'>\n",
      "RangeIndex: 43778 entries, 0 to 43777\n",
      "Data columns (total 7 columns):\n",
      " #   Column       Non-Null Count  Dtype  \n",
      "---  ------       --------------  -----  \n",
      " 0   Animal       43778 non-null  object \n",
      " 1   Age          43778 non-null  int64  \n",
      " 2   Temperature  43778 non-null  float64\n",
      " 3   Symptom 1    43778 non-null  object \n",
      " 4   Symptom 2    43778 non-null  object \n",
      " 5   Symptom 3    43778 non-null  object \n",
      " 6   Disease      43778 non-null  object \n",
      "dtypes: float64(1), int64(1), object(5)\n",
      "memory usage: 2.3+ MB\n"
     ]
    }
   ],
   "source": [
    "data.info()"
   ]
  },
  {
   "cell_type": "code",
   "execution_count": null,
   "metadata": {},
   "outputs": [],
   "source": []
  },
  {
   "cell_type": "code",
   "execution_count": 5,
   "metadata": {},
   "outputs": [
    {
     "data": {
      "text/html": [
       "<div>\n",
       "<style scoped>\n",
       "    .dataframe tbody tr th:only-of-type {\n",
       "        vertical-align: middle;\n",
       "    }\n",
       "\n",
       "    .dataframe tbody tr th {\n",
       "        vertical-align: top;\n",
       "    }\n",
       "\n",
       "    .dataframe thead th {\n",
       "        text-align: right;\n",
       "    }\n",
       "</style>\n",
       "<table border=\"1\" class=\"dataframe\">\n",
       "  <thead>\n",
       "    <tr style=\"text-align: right;\">\n",
       "      <th></th>\n",
       "      <th>Age</th>\n",
       "      <th>Temperature</th>\n",
       "    </tr>\n",
       "  </thead>\n",
       "  <tbody>\n",
       "    <tr>\n",
       "      <th>count</th>\n",
       "      <td>43778.000000</td>\n",
       "      <td>43778.000000</td>\n",
       "    </tr>\n",
       "    <tr>\n",
       "      <th>mean</th>\n",
       "      <td>6.769131</td>\n",
       "      <td>102.269590</td>\n",
       "    </tr>\n",
       "    <tr>\n",
       "      <th>std</th>\n",
       "      <td>3.886739</td>\n",
       "      <td>1.400872</td>\n",
       "    </tr>\n",
       "    <tr>\n",
       "      <th>min</th>\n",
       "      <td>1.000000</td>\n",
       "      <td>100.000000</td>\n",
       "    </tr>\n",
       "    <tr>\n",
       "      <th>25%</th>\n",
       "      <td>4.000000</td>\n",
       "      <td>101.100000</td>\n",
       "    </tr>\n",
       "    <tr>\n",
       "      <th>50%</th>\n",
       "      <td>7.000000</td>\n",
       "      <td>102.200000</td>\n",
       "    </tr>\n",
       "    <tr>\n",
       "      <th>75%</th>\n",
       "      <td>10.000000</td>\n",
       "      <td>103.400000</td>\n",
       "    </tr>\n",
       "    <tr>\n",
       "      <th>max</th>\n",
       "      <td>15.000000</td>\n",
       "      <td>105.000000</td>\n",
       "    </tr>\n",
       "  </tbody>\n",
       "</table>\n",
       "</div>"
      ],
      "text/plain": [
       "                Age   Temperature\n",
       "count  43778.000000  43778.000000\n",
       "mean       6.769131    102.269590\n",
       "std        3.886739      1.400872\n",
       "min        1.000000    100.000000\n",
       "25%        4.000000    101.100000\n",
       "50%        7.000000    102.200000\n",
       "75%       10.000000    103.400000\n",
       "max       15.000000    105.000000"
      ]
     },
     "execution_count": 5,
     "metadata": {},
     "output_type": "execute_result"
    }
   ],
   "source": [
    "data.describe()"
   ]
  },
  {
   "cell_type": "code",
   "execution_count": 6,
   "metadata": {},
   "outputs": [
    {
     "data": {
      "text/plain": [
       "array(['cow', 'buffalo', 'sheep', 'goat'], dtype=object)"
      ]
     },
     "execution_count": 6,
     "metadata": {},
     "output_type": "execute_result"
    }
   ],
   "source": [
    "# creatting sub-dataset for only cow\n",
    "\n",
    "data[\"Animal\"].unique()"
   ]
  },
  {
   "cell_type": "code",
   "execution_count": 7,
   "metadata": {},
   "outputs": [],
   "source": [
    "cow_data = data[data[\"Animal\"] == \"cow\"]\n"
   ]
  },
  {
   "cell_type": "code",
   "execution_count": 8,
   "metadata": {},
   "outputs": [
    {
     "name": "stdout",
     "output_type": "stream",
     "text": [
      "<class 'pandas.core.frame.DataFrame'>\n",
      "Int64Index: 11254 entries, 0 to 43776\n",
      "Data columns (total 7 columns):\n",
      " #   Column       Non-Null Count  Dtype  \n",
      "---  ------       --------------  -----  \n",
      " 0   Animal       11254 non-null  object \n",
      " 1   Age          11254 non-null  int64  \n",
      " 2   Temperature  11254 non-null  float64\n",
      " 3   Symptom 1    11254 non-null  object \n",
      " 4   Symptom 2    11254 non-null  object \n",
      " 5   Symptom 3    11254 non-null  object \n",
      " 6   Disease      11254 non-null  object \n",
      "dtypes: float64(1), int64(1), object(5)\n",
      "memory usage: 703.4+ KB\n"
     ]
    }
   ],
   "source": [
    "cow_data.head()\n",
    "cow_data.info()"
   ]
  },
  {
   "cell_type": "code",
   "execution_count": 9,
   "metadata": {},
   "outputs": [
    {
     "data": {
      "text/plain": [
       "array(['pneumonia', 'blackleg', 'lumpy virus', 'anthrax',\n",
       "       'foot and mouth'], dtype=object)"
      ]
     },
     "execution_count": 9,
     "metadata": {},
     "output_type": "execute_result"
    }
   ],
   "source": [
    "cow_data[\"Disease\"].unique()"
   ]
  },
  {
   "cell_type": "code",
   "execution_count": 10,
   "metadata": {},
   "outputs": [
    {
     "data": {
      "text/plain": [
       "Index(['Animal', 'Age', 'Temperature', 'Symptom 1', 'Symptom 2', 'Symptom 3',\n",
       "       'Disease'],\n",
       "      dtype='object')"
      ]
     },
     "execution_count": 10,
     "metadata": {},
     "output_type": "execute_result"
    }
   ],
   "source": [
    "cow_data.columns\n"
   ]
  },
  {
   "cell_type": "code",
   "execution_count": 11,
   "metadata": {},
   "outputs": [
    {
     "name": "stderr",
     "output_type": "stream",
     "text": [
      "C:\\Users\\Rootkit\\AppData\\Local\\Temp\\ipykernel_22212\\31579408.py:2: SettingWithCopyWarning: \n",
      "A value is trying to be set on a copy of a slice from a DataFrame.\n",
      "Try using .loc[row_indexer,col_indexer] = value instead\n",
      "\n",
      "See the caveats in the documentation: https://pandas.pydata.org/pandas-docs/stable/user_guide/indexing.html#returning-a-view-versus-a-copy\n",
      "  cow_data[\"symptoms\"] = cow_data[\"Symptom 1\"]+' '+cow_data[\"Symptom 2\"]+' '+cow_data[\"Symptom 3\"]\n"
     ]
    },
    {
     "data": {
      "text/html": [
       "<div>\n",
       "<style scoped>\n",
       "    .dataframe tbody tr th:only-of-type {\n",
       "        vertical-align: middle;\n",
       "    }\n",
       "\n",
       "    .dataframe tbody tr th {\n",
       "        vertical-align: top;\n",
       "    }\n",
       "\n",
       "    .dataframe thead th {\n",
       "        text-align: right;\n",
       "    }\n",
       "</style>\n",
       "<table border=\"1\" class=\"dataframe\">\n",
       "  <thead>\n",
       "    <tr style=\"text-align: right;\">\n",
       "      <th></th>\n",
       "      <th>Animal</th>\n",
       "      <th>Age</th>\n",
       "      <th>Temperature</th>\n",
       "      <th>Symptom 1</th>\n",
       "      <th>Symptom 2</th>\n",
       "      <th>Symptom 3</th>\n",
       "      <th>Disease</th>\n",
       "      <th>symptoms</th>\n",
       "    </tr>\n",
       "  </thead>\n",
       "  <tbody>\n",
       "    <tr>\n",
       "      <th>0</th>\n",
       "      <td>cow</td>\n",
       "      <td>3</td>\n",
       "      <td>103.1</td>\n",
       "      <td>depression</td>\n",
       "      <td>painless lumps</td>\n",
       "      <td>loss of appetite</td>\n",
       "      <td>pneumonia</td>\n",
       "      <td>depression painless lumps loss of appetite</td>\n",
       "    </tr>\n",
       "    <tr>\n",
       "      <th>3</th>\n",
       "      <td>cow</td>\n",
       "      <td>14</td>\n",
       "      <td>100.3</td>\n",
       "      <td>loss of appetite</td>\n",
       "      <td>swelling in limb</td>\n",
       "      <td>crackling sound</td>\n",
       "      <td>blackleg</td>\n",
       "      <td>loss of appetite swelling in limb crackling sound</td>\n",
       "    </tr>\n",
       "    <tr>\n",
       "      <th>11</th>\n",
       "      <td>cow</td>\n",
       "      <td>11</td>\n",
       "      <td>103.9</td>\n",
       "      <td>depression</td>\n",
       "      <td>painless lumps</td>\n",
       "      <td>loss of appetite</td>\n",
       "      <td>lumpy virus</td>\n",
       "      <td>depression painless lumps loss of appetite</td>\n",
       "    </tr>\n",
       "    <tr>\n",
       "      <th>19</th>\n",
       "      <td>cow</td>\n",
       "      <td>14</td>\n",
       "      <td>102.7</td>\n",
       "      <td>shortness of breath</td>\n",
       "      <td>sweats</td>\n",
       "      <td>chills</td>\n",
       "      <td>anthrax</td>\n",
       "      <td>shortness of breath sweats chills</td>\n",
       "    </tr>\n",
       "    <tr>\n",
       "      <th>20</th>\n",
       "      <td>cow</td>\n",
       "      <td>1</td>\n",
       "      <td>103.7</td>\n",
       "      <td>depression</td>\n",
       "      <td>loss of appetite</td>\n",
       "      <td>painless lumps</td>\n",
       "      <td>lumpy virus</td>\n",
       "      <td>depression loss of appetite painless lumps</td>\n",
       "    </tr>\n",
       "  </tbody>\n",
       "</table>\n",
       "</div>"
      ],
      "text/plain": [
       "   Animal  Age  Temperature            Symptom 1         Symptom 2  \\\n",
       "0     cow    3        103.1           depression    painless lumps   \n",
       "3     cow   14        100.3     loss of appetite  swelling in limb   \n",
       "11    cow   11        103.9           depression    painless lumps   \n",
       "19    cow   14        102.7  shortness of breath            sweats   \n",
       "20    cow    1        103.7           depression  loss of appetite   \n",
       "\n",
       "           Symptom 3      Disease  \\\n",
       "0   loss of appetite    pneumonia   \n",
       "3    crackling sound     blackleg   \n",
       "11  loss of appetite  lumpy virus   \n",
       "19            chills      anthrax   \n",
       "20    painless lumps  lumpy virus   \n",
       "\n",
       "                                             symptoms  \n",
       "0          depression painless lumps loss of appetite  \n",
       "3   loss of appetite swelling in limb crackling sound  \n",
       "11         depression painless lumps loss of appetite  \n",
       "19                  shortness of breath sweats chills  \n",
       "20         depression loss of appetite painless lumps  "
      ]
     },
     "execution_count": 11,
     "metadata": {},
     "output_type": "execute_result"
    }
   ],
   "source": [
    "# preprocessing\n",
    "cow_data[\"symptoms\"] = cow_data[\"Symptom 1\"]+' '+cow_data[\"Symptom 2\"]+' '+cow_data[\"Symptom 3\"]\n",
    "cow_data.head()  "
   ]
  },
  {
   "cell_type": "code",
   "execution_count": 12,
   "metadata": {},
   "outputs": [
    {
     "name": "stdout",
     "output_type": "stream",
     "text": [
      "depression\n"
     ]
    }
   ],
   "source": [
    "\n",
    "X = cow_data[\"Symptom 1\"]\n",
    "print(X[0])"
   ]
  },
  {
   "cell_type": "code",
   "execution_count": 13,
   "metadata": {},
   "outputs": [
    {
     "name": "stderr",
     "output_type": "stream",
     "text": [
      "[nltk_data] Downloading package stopwords to\n",
      "[nltk_data]     C:\\Users\\Rootkit\\AppData\\Roaming\\nltk_data...\n",
      "[nltk_data]   Package stopwords is already up-to-date!\n"
     ]
    }
   ],
   "source": [
    "# removing stopwords\n",
    "nltk.download('stopwords')\n",
    "stop_words = stopwords.words('english')\n"
   ]
  },
  {
   "cell_type": "code",
   "execution_count": 14,
   "metadata": {},
   "outputs": [
    {
     "name": "stderr",
     "output_type": "stream",
     "text": [
      "C:\\Users\\Rootkit\\AppData\\Local\\Temp\\ipykernel_22212\\3522906237.py:3: SettingWithCopyWarning: \n",
      "A value is trying to be set on a copy of a slice from a DataFrame.\n",
      "Try using .loc[row_indexer,col_indexer] = value instead\n",
      "\n",
      "See the caveats in the documentation: https://pandas.pydata.org/pandas-docs/stable/user_guide/indexing.html#returning-a-view-versus-a-copy\n",
      "  cow_data['symptoms'] = cow_data['Symptom 1'].apply(lambda x: remove_stopwords(x))\n"
     ]
    }
   ],
   "source": [
    "def remove_stopwords(text):\n",
    "    return \" \".join([word for word in str(text).split() if word not in stop_words])\n",
    "cow_data['symptoms'] = cow_data['Symptom 1'].apply(lambda x: remove_stopwords(x))"
   ]
  },
  {
   "cell_type": "code",
   "execution_count": 15,
   "metadata": {},
   "outputs": [
    {
     "name": "stdout",
     "output_type": "stream",
     "text": [
      "0              depression\n",
      "3           loss appetite\n",
      "11             depression\n",
      "19       shortness breath\n",
      "20             depression\n",
      "               ...       \n",
      "43759          sores gums\n",
      "43760       loss appetite\n",
      "43768          depression\n",
      "43770      painless lumps\n",
      "43776     crackling sound\n",
      "Name: symptoms, Length: 11254, dtype: object\n"
     ]
    }
   ],
   "source": [
    "print(cow_data['symptoms'])"
   ]
  },
  {
   "cell_type": "code",
   "execution_count": 16,
   "metadata": {},
   "outputs": [
    {
     "name": "stderr",
     "output_type": "stream",
     "text": [
      "[nltk_data] Downloading package wordnet to\n",
      "[nltk_data]     C:\\Users\\Rootkit\\AppData\\Roaming\\nltk_data...\n",
      "[nltk_data]   Package wordnet is already up-to-date!\n",
      "C:\\Users\\Rootkit\\AppData\\Local\\Temp\\ipykernel_22212\\3651980679.py:5: SettingWithCopyWarning: \n",
      "A value is trying to be set on a copy of a slice from a DataFrame.\n",
      "Try using .loc[row_indexer,col_indexer] = value instead\n",
      "\n",
      "See the caveats in the documentation: https://pandas.pydata.org/pandas-docs/stable/user_guide/indexing.html#returning-a-view-versus-a-copy\n",
      "  cow_data[\"symptoms\"] = cow_data[\"symptoms\"].apply(lambda text: lemmatize_words(text))\n"
     ]
    }
   ],
   "source": [
    "lemmatizer = WordNetLemmatizer()\n",
    "nltk.download('wordnet')\n",
    "def lemmatize_words(text):\n",
    "    return \" \".join([lemmatizer.lemmatize(word) for word in text.split()])\n",
    "cow_data[\"symptoms\"] = cow_data[\"symptoms\"].apply(lambda text: lemmatize_words(text))"
   ]
  },
  {
   "cell_type": "code",
   "execution_count": 17,
   "metadata": {},
   "outputs": [
    {
     "data": {
      "text/plain": [
       "0              depression\n",
       "3           loss appetite\n",
       "11             depression\n",
       "19       shortness breath\n",
       "20             depression\n",
       "               ...       \n",
       "43759            sore gum\n",
       "43760       loss appetite\n",
       "43768          depression\n",
       "43770       painless lump\n",
       "43776     crackling sound\n",
       "Name: symptoms, Length: 11254, dtype: object"
      ]
     },
     "execution_count": 17,
     "metadata": {},
     "output_type": "execute_result"
    }
   ],
   "source": [
    "cow_data['symptoms']"
   ]
  },
  {
   "cell_type": "code",
   "execution_count": 18,
   "metadata": {},
   "outputs": [
    {
     "name": "stderr",
     "output_type": "stream",
     "text": [
      "C:\\Users\\Rootkit\\AppData\\Local\\Temp\\ipykernel_22212\\3075190319.py:1: SettingWithCopyWarning: \n",
      "A value is trying to be set on a copy of a slice from a DataFrame.\n",
      "Try using .loc[row_indexer,col_indexer] = value instead\n",
      "\n",
      "See the caveats in the documentation: https://pandas.pydata.org/pandas-docs/stable/user_guide/indexing.html#returning-a-view-versus-a-copy\n",
      "  cow_data[\"symptoms\"] = cow_data[\"symptoms\"].apply(lambda text: re.sub(' +', ' ', text))\n"
     ]
    }
   ],
   "source": [
    "cow_data[\"symptoms\"] = cow_data[\"symptoms\"].apply(lambda text: re.sub(' +', ' ', text))"
   ]
  },
  {
   "cell_type": "code",
   "execution_count": 19,
   "metadata": {},
   "outputs": [
    {
     "data": {
      "text/plain": [
       "0              depression\n",
       "3           loss appetite\n",
       "11             depression\n",
       "19       shortness breath\n",
       "20             depression\n",
       "               ...       \n",
       "43759            sore gum\n",
       "43760       loss appetite\n",
       "43768          depression\n",
       "43770       painless lump\n",
       "43776     crackling sound\n",
       "Name: symptoms, Length: 11254, dtype: object"
      ]
     },
     "execution_count": 19,
     "metadata": {},
     "output_type": "execute_result"
    }
   ],
   "source": [
    "cow_data['symptoms']"
   ]
  },
  {
   "cell_type": "markdown",
   "metadata": {},
   "source": [
    "Text Vecterization with TF-IDF Vectorization"
   ]
  },
  {
   "cell_type": "code",
   "execution_count": 20,
   "metadata": {},
   "outputs": [
    {
     "name": "stdout",
     "output_type": "stream",
     "text": [
      "  (0, 7)\t1.0\n",
      "  (1, 1)\t0.7071067811865475\n",
      "  (1, 16)\t0.7071067811865475\n",
      "  (2, 7)\t1.0\n",
      "  (3, 3)\t0.7071067811865475\n",
      "  (3, 22)\t0.7071067811865475\n",
      "  (4, 7)\t1.0\n",
      "  (5, 17)\t0.7071067811865476\n",
      "  (5, 21)\t0.7071067811865476\n",
      "  (6, 9)\t0.7071067811865475\n",
      "  (6, 4)\t0.7071067811865475\n",
      "  (7, 1)\t0.7071067811865475\n",
      "  (7, 16)\t0.7071067811865475\n",
      "  (8, 1)\t0.7071067811865475\n",
      "  (8, 16)\t0.7071067811865475\n",
      "  (9, 15)\t0.8040977176794459\n",
      "  (9, 26)\t0.594497149213271\n",
      "  (10, 12)\t0.7560675888137917\n",
      "  (10, 2)\t0.6544935455337196\n",
      "  (11, 17)\t0.7071067811865476\n",
      "  (11, 21)\t0.7071067811865476\n",
      "  (12, 10)\t0.8357758253267401\n",
      "  (12, 26)\t0.5490708240285641\n",
      "  (13, 1)\t0.7071067811865475\n",
      "  (13, 16)\t0.7071067811865475\n",
      "  :\t:\n",
      "  (11239, 26)\t0.594497149213271\n",
      "  (11240, 3)\t0.7071067811865475\n",
      "  (11240, 22)\t0.7071067811865475\n",
      "  (11241, 7)\t1.0\n",
      "  (11242, 3)\t0.7071067811865475\n",
      "  (11242, 22)\t0.7071067811865475\n",
      "  (11243, 7)\t1.0\n",
      "  (11244, 11)\t1.0\n",
      "  (11245, 1)\t0.7071067811865475\n",
      "  (11245, 16)\t0.7071067811865475\n",
      "  (11246, 1)\t0.7071067811865475\n",
      "  (11246, 16)\t0.7071067811865475\n",
      "  (11247, 19)\t0.8122181409586857\n",
      "  (11247, 26)\t0.583353830447368\n",
      "  (11248, 24)\t0.7071067811865476\n",
      "  (11248, 6)\t0.7071067811865476\n",
      "  (11249, 23)\t0.6562144057757718\n",
      "  (11249, 12)\t0.7545744851585897\n",
      "  (11250, 1)\t0.7071067811865475\n",
      "  (11250, 16)\t0.7071067811865475\n",
      "  (11251, 7)\t1.0\n",
      "  (11252, 17)\t0.7071067811865476\n",
      "  (11252, 21)\t0.7071067811865476\n",
      "  (11253, 24)\t0.7071067811865476\n",
      "  (11253, 6)\t0.7071067811865476\n"
     ]
    }
   ],
   "source": [
    "from sklearn.feature_extraction.text import TfidfVectorizer\n",
    "vecterizer = TfidfVectorizer()\n",
    "vectors = vecterizer.fit_transform(cow_data['symptoms'])\n",
    "matrix = vectors.todense()\n",
    "vectors.shape\n",
    "print(vectors)\n",
    "\n",
    "      \n"
   ]
  },
  {
   "cell_type": "code",
   "execution_count": 21,
   "metadata": {},
   "outputs": [
    {
     "name": "stdout",
     "output_type": "stream",
     "text": [
      "['abdomen' 'appetite' 'blister' 'breath' 'chest' 'chill' 'crackling'\n",
      " 'depression' 'difficulty' 'discomfort' 'extremity' 'fatigue' 'gum' 'hoof'\n",
      " 'lameness' 'limb' 'loss' 'lump' 'mouth' 'muscle' 'neck' 'painless'\n",
      " 'shortness' 'sore' 'sound' 'sweat' 'swelling' 'tongue' 'walking']\n"
     ]
    }
   ],
   "source": [
    "features = vecterizer.get_feature_names_out()\n",
    "print(features)"
   ]
  },
  {
   "cell_type": "code",
   "execution_count": null,
   "metadata": {},
   "outputs": [],
   "source": []
  }
 ],
 "metadata": {
  "kernelspec": {
   "display_name": "base",
   "language": "python",
   "name": "python3"
  },
  "language_info": {
   "codemirror_mode": {
    "name": "ipython",
    "version": 3
   },
   "file_extension": ".py",
   "mimetype": "text/x-python",
   "name": "python",
   "nbconvert_exporter": "python",
   "pygments_lexer": "ipython3",
   "version": "3.11.4"
  }
 },
 "nbformat": 4,
 "nbformat_minor": 2
}
