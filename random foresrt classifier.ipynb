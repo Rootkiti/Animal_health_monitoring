{
 "cells": [
  {
   "cell_type": "markdown",
   "metadata": {},
   "source": [
    "# Overview\n",
    "\n",
    "This is the 3rd algorithm on my list. I am going to build this model on previous dataset focusing on `cow` as usual."
   ]
  },
  {
   "cell_type": "code",
   "execution_count": 138,
   "metadata": {},
   "outputs": [],
   "source": [
    "import pandas as pd\n",
    "import seaborn as sns\n",
    "import matplotlib.pyplot as plt\n",
    "from sklearn.ensemble import RandomForestClassifier\n",
    "from sklearn.metrics import accuracy_score\n",
    "from sklearn.pipeline import make_pipeline\n",
    "from sklearn.model_selection import train_test_split\n",
    "from category_encoders import OrdinalEncoder\n"
   ]
  },
  {
   "cell_type": "markdown",
   "metadata": {},
   "source": [
    "# Data preparation\n",
    "### Import"
   ]
  },
  {
   "cell_type": "code",
   "execution_count": 2,
   "metadata": {},
   "outputs": [],
   "source": [
    "def wrangle(path, animal):\n",
    "    df = pd.read_csv(path)\n",
    "    \n",
    "    # subsetting our dataset base on the animal of intrest\n",
    "    df = df[df['Animal'] == animal]\n",
    "    return df"
   ]
  },
  {
   "cell_type": "code",
   "execution_count": 3,
   "metadata": {},
   "outputs": [
    {
     "data": {
      "text/html": [
       "<div>\n",
       "<style scoped>\n",
       "    .dataframe tbody tr th:only-of-type {\n",
       "        vertical-align: middle;\n",
       "    }\n",
       "\n",
       "    .dataframe tbody tr th {\n",
       "        vertical-align: top;\n",
       "    }\n",
       "\n",
       "    .dataframe thead th {\n",
       "        text-align: right;\n",
       "    }\n",
       "</style>\n",
       "<table border=\"1\" class=\"dataframe\">\n",
       "  <thead>\n",
       "    <tr style=\"text-align: right;\">\n",
       "      <th></th>\n",
       "      <th>Animal</th>\n",
       "      <th>Age</th>\n",
       "      <th>Temperature</th>\n",
       "      <th>Symptom 1</th>\n",
       "      <th>Symptom 2</th>\n",
       "      <th>Symptom 3</th>\n",
       "      <th>Disease</th>\n",
       "    </tr>\n",
       "  </thead>\n",
       "  <tbody>\n",
       "    <tr>\n",
       "      <th>0</th>\n",
       "      <td>cow</td>\n",
       "      <td>3</td>\n",
       "      <td>103.1</td>\n",
       "      <td>depression</td>\n",
       "      <td>painless lumps</td>\n",
       "      <td>loss of appetite</td>\n",
       "      <td>pneumonia</td>\n",
       "    </tr>\n",
       "    <tr>\n",
       "      <th>3</th>\n",
       "      <td>cow</td>\n",
       "      <td>14</td>\n",
       "      <td>100.3</td>\n",
       "      <td>loss of appetite</td>\n",
       "      <td>swelling in limb</td>\n",
       "      <td>crackling sound</td>\n",
       "      <td>blackleg</td>\n",
       "    </tr>\n",
       "    <tr>\n",
       "      <th>11</th>\n",
       "      <td>cow</td>\n",
       "      <td>11</td>\n",
       "      <td>103.9</td>\n",
       "      <td>depression</td>\n",
       "      <td>painless lumps</td>\n",
       "      <td>loss of appetite</td>\n",
       "      <td>lumpy virus</td>\n",
       "    </tr>\n",
       "    <tr>\n",
       "      <th>19</th>\n",
       "      <td>cow</td>\n",
       "      <td>14</td>\n",
       "      <td>102.7</td>\n",
       "      <td>shortness of breath</td>\n",
       "      <td>sweats</td>\n",
       "      <td>chills</td>\n",
       "      <td>anthrax</td>\n",
       "    </tr>\n",
       "    <tr>\n",
       "      <th>20</th>\n",
       "      <td>cow</td>\n",
       "      <td>1</td>\n",
       "      <td>103.7</td>\n",
       "      <td>depression</td>\n",
       "      <td>loss of appetite</td>\n",
       "      <td>painless lumps</td>\n",
       "      <td>lumpy virus</td>\n",
       "    </tr>\n",
       "  </tbody>\n",
       "</table>\n",
       "</div>"
      ],
      "text/plain": [
       "   Animal  Age  Temperature            Symptom 1         Symptom 2  \\\n",
       "0     cow    3        103.1           depression    painless lumps   \n",
       "3     cow   14        100.3     loss of appetite  swelling in limb   \n",
       "11    cow   11        103.9           depression    painless lumps   \n",
       "19    cow   14        102.7  shortness of breath            sweats   \n",
       "20    cow    1        103.7           depression  loss of appetite   \n",
       "\n",
       "           Symptom 3      Disease  \n",
       "0   loss of appetite    pneumonia  \n",
       "3    crackling sound     blackleg  \n",
       "11  loss of appetite  lumpy virus  \n",
       "19            chills      anthrax  \n",
       "20    painless lumps  lumpy virus  "
      ]
     },
     "execution_count": 3,
     "metadata": {},
     "output_type": "execute_result"
    }
   ],
   "source": [
    "# call to my function to make use of it\n",
    "df = wrangle('datasets/animal_disease_dataset.csv','cow')\n",
    "df.head()"
   ]
  },
  {
   "cell_type": "markdown",
   "metadata": {},
   "source": [
    "From previous notebooks I have shown you that this dataset is well cleaned and ready to be used to build different ML model. From this point I am not going to explore the dataset again but I will jump direct to `Data splitting` section "
   ]
  },
  {
   "cell_type": "markdown",
   "metadata": {},
   "source": [
    "### Data Split"
   ]
  },
  {
   "cell_type": "markdown",
   "metadata": {},
   "source": [
    "The data split strategy will be the same as in previous notebooks and I will transform categorical Data at the same time"
   ]
  },
  {
   "cell_type": "code",
   "execution_count": 108,
   "metadata": {},
   "outputs": [
    {
     "data": {
      "text/html": [
       "<div>\n",
       "<style scoped>\n",
       "    .dataframe tbody tr th:only-of-type {\n",
       "        vertical-align: middle;\n",
       "    }\n",
       "\n",
       "    .dataframe tbody tr th {\n",
       "        vertical-align: top;\n",
       "    }\n",
       "\n",
       "    .dataframe thead th {\n",
       "        text-align: right;\n",
       "    }\n",
       "</style>\n",
       "<table border=\"1\" class=\"dataframe\">\n",
       "  <thead>\n",
       "    <tr style=\"text-align: right;\">\n",
       "      <th></th>\n",
       "      <th>Age</th>\n",
       "      <th>Temperature</th>\n",
       "      <th>Symptom 1</th>\n",
       "      <th>Symptom 2</th>\n",
       "      <th>Symptom 3</th>\n",
       "    </tr>\n",
       "  </thead>\n",
       "  <tbody>\n",
       "    <tr>\n",
       "      <th>0</th>\n",
       "      <td>3</td>\n",
       "      <td>103.1</td>\n",
       "      <td>depression</td>\n",
       "      <td>painless lumps</td>\n",
       "      <td>loss of appetite</td>\n",
       "    </tr>\n",
       "    <tr>\n",
       "      <th>3</th>\n",
       "      <td>14</td>\n",
       "      <td>100.3</td>\n",
       "      <td>loss of appetite</td>\n",
       "      <td>swelling in limb</td>\n",
       "      <td>crackling sound</td>\n",
       "    </tr>\n",
       "    <tr>\n",
       "      <th>11</th>\n",
       "      <td>11</td>\n",
       "      <td>103.9</td>\n",
       "      <td>depression</td>\n",
       "      <td>painless lumps</td>\n",
       "      <td>loss of appetite</td>\n",
       "    </tr>\n",
       "    <tr>\n",
       "      <th>19</th>\n",
       "      <td>14</td>\n",
       "      <td>102.7</td>\n",
       "      <td>shortness of breath</td>\n",
       "      <td>sweats</td>\n",
       "      <td>chills</td>\n",
       "    </tr>\n",
       "    <tr>\n",
       "      <th>20</th>\n",
       "      <td>1</td>\n",
       "      <td>103.7</td>\n",
       "      <td>depression</td>\n",
       "      <td>loss of appetite</td>\n",
       "      <td>painless lumps</td>\n",
       "    </tr>\n",
       "  </tbody>\n",
       "</table>\n",
       "</div>"
      ],
      "text/plain": [
       "    Age  Temperature            Symptom 1         Symptom 2         Symptom 3\n",
       "0     3        103.1           depression    painless lumps  loss of appetite\n",
       "3    14        100.3     loss of appetite  swelling in limb   crackling sound\n",
       "11   11        103.9           depression    painless lumps  loss of appetite\n",
       "19   14        102.7  shortness of breath            sweats            chills\n",
       "20    1        103.7           depression  loss of appetite    painless lumps"
      ]
     },
     "execution_count": 108,
     "metadata": {},
     "output_type": "execute_result"
    }
   ],
   "source": [
    "# Feature matrix X\n",
    "\n",
    "X = df[df.columns[1:6]]\n",
    "X.head()"
   ]
  },
  {
   "cell_type": "code",
   "execution_count": 109,
   "metadata": {},
   "outputs": [
    {
     "data": {
      "text/plain": [
       "0             pneumonia\n",
       "3              blackleg\n",
       "11          lumpy virus\n",
       "19              anthrax\n",
       "20          lumpy virus\n",
       "              ...      \n",
       "43759    foot and mouth\n",
       "43760       lumpy virus\n",
       "43768       lumpy virus\n",
       "43770         pneumonia\n",
       "43776          blackleg\n",
       "Name: Disease, Length: 11254, dtype: object"
      ]
     },
     "execution_count": 109,
     "metadata": {},
     "output_type": "execute_result"
    }
   ],
   "source": [
    "# target vector y\n",
    "\n",
    "y =df['Disease']\n",
    "y"
   ]
  },
  {
   "cell_type": "code",
   "execution_count": 110,
   "metadata": {},
   "outputs": [],
   "source": [
    "X_train, X_test,y_train,y_test = train_test_split(X,y,test_size=.2, random_state=42)\n"
   ]
  },
  {
   "cell_type": "markdown",
   "metadata": {},
   "source": [
    "### Model Building\n"
   ]
  },
  {
   "cell_type": "code",
   "execution_count": 132,
   "metadata": {},
   "outputs": [
    {
     "data": {
      "text/html": [
       "<style>#sk-container-id-25 {color: black;}#sk-container-id-25 pre{padding: 0;}#sk-container-id-25 div.sk-toggleable {background-color: white;}#sk-container-id-25 label.sk-toggleable__label {cursor: pointer;display: block;width: 100%;margin-bottom: 0;padding: 0.3em;box-sizing: border-box;text-align: center;}#sk-container-id-25 label.sk-toggleable__label-arrow:before {content: \"▸\";float: left;margin-right: 0.25em;color: #696969;}#sk-container-id-25 label.sk-toggleable__label-arrow:hover:before {color: black;}#sk-container-id-25 div.sk-estimator:hover label.sk-toggleable__label-arrow:before {color: black;}#sk-container-id-25 div.sk-toggleable__content {max-height: 0;max-width: 0;overflow: hidden;text-align: left;background-color: #f0f8ff;}#sk-container-id-25 div.sk-toggleable__content pre {margin: 0.2em;color: black;border-radius: 0.25em;background-color: #f0f8ff;}#sk-container-id-25 input.sk-toggleable__control:checked~div.sk-toggleable__content {max-height: 200px;max-width: 100%;overflow: auto;}#sk-container-id-25 input.sk-toggleable__control:checked~label.sk-toggleable__label-arrow:before {content: \"▾\";}#sk-container-id-25 div.sk-estimator input.sk-toggleable__control:checked~label.sk-toggleable__label {background-color: #d4ebff;}#sk-container-id-25 div.sk-label input.sk-toggleable__control:checked~label.sk-toggleable__label {background-color: #d4ebff;}#sk-container-id-25 input.sk-hidden--visually {border: 0;clip: rect(1px 1px 1px 1px);clip: rect(1px, 1px, 1px, 1px);height: 1px;margin: -1px;overflow: hidden;padding: 0;position: absolute;width: 1px;}#sk-container-id-25 div.sk-estimator {font-family: monospace;background-color: #f0f8ff;border: 1px dotted black;border-radius: 0.25em;box-sizing: border-box;margin-bottom: 0.5em;}#sk-container-id-25 div.sk-estimator:hover {background-color: #d4ebff;}#sk-container-id-25 div.sk-parallel-item::after {content: \"\";width: 100%;border-bottom: 1px solid gray;flex-grow: 1;}#sk-container-id-25 div.sk-label:hover label.sk-toggleable__label {background-color: #d4ebff;}#sk-container-id-25 div.sk-serial::before {content: \"\";position: absolute;border-left: 1px solid gray;box-sizing: border-box;top: 0;bottom: 0;left: 50%;z-index: 0;}#sk-container-id-25 div.sk-serial {display: flex;flex-direction: column;align-items: center;background-color: white;padding-right: 0.2em;padding-left: 0.2em;position: relative;}#sk-container-id-25 div.sk-item {position: relative;z-index: 1;}#sk-container-id-25 div.sk-parallel {display: flex;align-items: stretch;justify-content: center;background-color: white;position: relative;}#sk-container-id-25 div.sk-item::before, #sk-container-id-25 div.sk-parallel-item::before {content: \"\";position: absolute;border-left: 1px solid gray;box-sizing: border-box;top: 0;bottom: 0;left: 50%;z-index: -1;}#sk-container-id-25 div.sk-parallel-item {display: flex;flex-direction: column;z-index: 1;position: relative;background-color: white;}#sk-container-id-25 div.sk-parallel-item:first-child::after {align-self: flex-end;width: 50%;}#sk-container-id-25 div.sk-parallel-item:last-child::after {align-self: flex-start;width: 50%;}#sk-container-id-25 div.sk-parallel-item:only-child::after {width: 0;}#sk-container-id-25 div.sk-dashed-wrapped {border: 1px dashed gray;margin: 0 0.4em 0.5em 0.4em;box-sizing: border-box;padding-bottom: 0.4em;background-color: white;}#sk-container-id-25 div.sk-label label {font-family: monospace;font-weight: bold;display: inline-block;line-height: 1.2em;}#sk-container-id-25 div.sk-label-container {text-align: center;}#sk-container-id-25 div.sk-container {/* jupyter's `normalize.less` sets `[hidden] { display: none; }` but bootstrap.min.css set `[hidden] { display: none !important; }` so we also need the `!important` here to be able to override the default hidden behavior on the sphinx rendered scikit-learn.org. See: https://github.com/scikit-learn/scikit-learn/issues/21755 */display: inline-block !important;position: relative;}#sk-container-id-25 div.sk-text-repr-fallback {display: none;}</style><div id=\"sk-container-id-25\" class=\"sk-top-container\"><div class=\"sk-text-repr-fallback\"><pre>Pipeline(steps=[(&#x27;ordinalencoder&#x27;,\n",
       "                 OrdinalEncoder(cols=[&#x27;Symptom 1&#x27;, &#x27;Symptom 2&#x27;, &#x27;Symptom 3&#x27;],\n",
       "                                mapping=[{&#x27;col&#x27;: &#x27;Symptom 1&#x27;,\n",
       "                                          &#x27;data_type&#x27;: dtype(&#x27;O&#x27;),\n",
       "                                          &#x27;mapping&#x27;: crackling sound             1\n",
       "depression                  2\n",
       "swelling in abdomen         3\n",
       "difficulty walking          4\n",
       "chest discomfort            5\n",
       "painless lumps              6\n",
       "lameness                    7\n",
       "loss of appetite            8\n",
       "sweats                      9\n",
       "sores on mouth             10\n",
       "swelling in neck           11\n",
       "fatigue                    12\n",
       "blisters on gums           13\n",
       "sores on tongue            14\n",
       "swelling...\n",
       "shortness of breath         7\n",
       "swelling in muscle          8\n",
       "chest discomfort            9\n",
       "sores on mouth             10\n",
       "painless lumps             11\n",
       "sores on gums              12\n",
       "difficulty walking         13\n",
       "swelling in limb           14\n",
       "sweats                     15\n",
       "sores on hooves            16\n",
       "swelling in neck           17\n",
       "blisters on mouth          18\n",
       "blisters on gums           19\n",
       "blisters on tongue         20\n",
       "blisters on hooves         21\n",
       "sores on tongue            22\n",
       "swelling in abdomen        23\n",
       "swelling in extremities    24\n",
       "NaN                        -2\n",
       "dtype: int64}])),\n",
       "                (&#x27;randomforestclassifier&#x27;, RandomForestClassifier())])</pre><b>In a Jupyter environment, please rerun this cell to show the HTML representation or trust the notebook. <br />On GitHub, the HTML representation is unable to render, please try loading this page with nbviewer.org.</b></div><div class=\"sk-container\" hidden><div class=\"sk-item sk-dashed-wrapped\"><div class=\"sk-label-container\"><div class=\"sk-label sk-toggleable\"><input class=\"sk-toggleable__control sk-hidden--visually\" id=\"sk-estimator-id-71\" type=\"checkbox\" ><label for=\"sk-estimator-id-71\" class=\"sk-toggleable__label sk-toggleable__label-arrow\">Pipeline</label><div class=\"sk-toggleable__content\"><pre>Pipeline(steps=[(&#x27;ordinalencoder&#x27;,\n",
       "                 OrdinalEncoder(cols=[&#x27;Symptom 1&#x27;, &#x27;Symptom 2&#x27;, &#x27;Symptom 3&#x27;],\n",
       "                                mapping=[{&#x27;col&#x27;: &#x27;Symptom 1&#x27;,\n",
       "                                          &#x27;data_type&#x27;: dtype(&#x27;O&#x27;),\n",
       "                                          &#x27;mapping&#x27;: crackling sound             1\n",
       "depression                  2\n",
       "swelling in abdomen         3\n",
       "difficulty walking          4\n",
       "chest discomfort            5\n",
       "painless lumps              6\n",
       "lameness                    7\n",
       "loss of appetite            8\n",
       "sweats                      9\n",
       "sores on mouth             10\n",
       "swelling in neck           11\n",
       "fatigue                    12\n",
       "blisters on gums           13\n",
       "sores on tongue            14\n",
       "swelling...\n",
       "shortness of breath         7\n",
       "swelling in muscle          8\n",
       "chest discomfort            9\n",
       "sores on mouth             10\n",
       "painless lumps             11\n",
       "sores on gums              12\n",
       "difficulty walking         13\n",
       "swelling in limb           14\n",
       "sweats                     15\n",
       "sores on hooves            16\n",
       "swelling in neck           17\n",
       "blisters on mouth          18\n",
       "blisters on gums           19\n",
       "blisters on tongue         20\n",
       "blisters on hooves         21\n",
       "sores on tongue            22\n",
       "swelling in abdomen        23\n",
       "swelling in extremities    24\n",
       "NaN                        -2\n",
       "dtype: int64}])),\n",
       "                (&#x27;randomforestclassifier&#x27;, RandomForestClassifier())])</pre></div></div></div><div class=\"sk-serial\"><div class=\"sk-item\"><div class=\"sk-estimator sk-toggleable\"><input class=\"sk-toggleable__control sk-hidden--visually\" id=\"sk-estimator-id-72\" type=\"checkbox\" ><label for=\"sk-estimator-id-72\" class=\"sk-toggleable__label sk-toggleable__label-arrow\">OrdinalEncoder</label><div class=\"sk-toggleable__content\"><pre>OrdinalEncoder(cols=[&#x27;Symptom 1&#x27;, &#x27;Symptom 2&#x27;, &#x27;Symptom 3&#x27;],\n",
       "               mapping=[{&#x27;col&#x27;: &#x27;Symptom 1&#x27;, &#x27;data_type&#x27;: dtype(&#x27;O&#x27;),\n",
       "                         &#x27;mapping&#x27;: crackling sound             1\n",
       "depression                  2\n",
       "swelling in abdomen         3\n",
       "difficulty walking          4\n",
       "chest discomfort            5\n",
       "painless lumps              6\n",
       "lameness                    7\n",
       "loss of appetite            8\n",
       "sweats                      9\n",
       "sores on mouth             10\n",
       "swelling in neck           11\n",
       "fatigue                    12\n",
       "blisters on gums           13\n",
       "sores on tongue            14\n",
       "swelling in extremities    15\n",
       "shortness of breath        16...\n",
       "fatigue                     3\n",
       "chills                      4\n",
       "depression                  5\n",
       "crackling sound             6\n",
       "shortness of breath         7\n",
       "swelling in muscle          8\n",
       "chest discomfort            9\n",
       "sores on mouth             10\n",
       "painless lumps             11\n",
       "sores on gums              12\n",
       "difficulty walking         13\n",
       "swelling in limb           14\n",
       "sweats                     15\n",
       "sores on hooves            16\n",
       "swelling in neck           17\n",
       "blisters on mouth          18\n",
       "blisters on gums           19\n",
       "blisters on tongue         20\n",
       "blisters on hooves         21\n",
       "sores on tongue            22\n",
       "swelling in abdomen        23\n",
       "swelling in extremities    24\n",
       "NaN                        -2\n",
       "dtype: int64}])</pre></div></div></div><div class=\"sk-item\"><div class=\"sk-estimator sk-toggleable\"><input class=\"sk-toggleable__control sk-hidden--visually\" id=\"sk-estimator-id-73\" type=\"checkbox\" ><label for=\"sk-estimator-id-73\" class=\"sk-toggleable__label sk-toggleable__label-arrow\">RandomForestClassifier</label><div class=\"sk-toggleable__content\"><pre>RandomForestClassifier()</pre></div></div></div></div></div></div></div>"
      ],
      "text/plain": [
       "Pipeline(steps=[('ordinalencoder',\n",
       "                 OrdinalEncoder(cols=['Symptom 1', 'Symptom 2', 'Symptom 3'],\n",
       "                                mapping=[{'col': 'Symptom 1',\n",
       "                                          'data_type': dtype('O'),\n",
       "                                          'mapping': crackling sound             1\n",
       "depression                  2\n",
       "swelling in abdomen         3\n",
       "difficulty walking          4\n",
       "chest discomfort            5\n",
       "painless lumps              6\n",
       "lameness                    7\n",
       "loss of appetite            8\n",
       "sweats                      9\n",
       "sores on mouth             10\n",
       "swelling in neck           11\n",
       "fatigue                    12\n",
       "blisters on gums           13\n",
       "sores on tongue            14\n",
       "swelling...\n",
       "shortness of breath         7\n",
       "swelling in muscle          8\n",
       "chest discomfort            9\n",
       "sores on mouth             10\n",
       "painless lumps             11\n",
       "sores on gums              12\n",
       "difficulty walking         13\n",
       "swelling in limb           14\n",
       "sweats                     15\n",
       "sores on hooves            16\n",
       "swelling in neck           17\n",
       "blisters on mouth          18\n",
       "blisters on gums           19\n",
       "blisters on tongue         20\n",
       "blisters on hooves         21\n",
       "sores on tongue            22\n",
       "swelling in abdomen        23\n",
       "swelling in extremities    24\n",
       "NaN                        -2\n",
       "dtype: int64}])),\n",
       "                ('randomforestclassifier', RandomForestClassifier())])"
      ]
     },
     "execution_count": 132,
     "metadata": {},
     "output_type": "execute_result"
    }
   ],
   "source": [
    "# model building \n",
    "model = make_pipeline(\n",
    "    OrdinalEncoder(),\n",
    "    RandomForestClassifier()\n",
    ")\n",
    "\n",
    "\n",
    "# model fitting\n",
    "model.fit(X_train,y_train)"
   ]
  },
  {
   "cell_type": "code",
   "execution_count": 133,
   "metadata": {},
   "outputs": [],
   "source": [
    "# making prediction\n",
    "predict_1 = model.predict(X_test)"
   ]
  },
  {
   "cell_type": "code",
   "execution_count": 134,
   "metadata": {},
   "outputs": [
    {
     "name": "stdout",
     "output_type": "stream",
     "text": [
      "Train accuracy:  0.94\n",
      "Test accuracy:  0.77\n"
     ]
    }
   ],
   "source": [
    "#### Model Evaluation\n",
    "print('Train accuracy: ', model.score(X_train,y_train).round(2))\n",
    "print('Test accuracy: ', accuracy_score(predict_1,y_test).round(2))\n"
   ]
  },
  {
   "cell_type": "markdown",
   "metadata": {},
   "source": [
    "#### Hyper Parameter Tuning\n",
    "\n",
    "I am going to explore my model what defout values it is using up to this point."
   ]
  },
  {
   "cell_type": "code",
   "execution_count": 139,
   "metadata": {},
   "outputs": [
    {
     "name": "stdout",
     "output_type": "stream",
     "text": [
      "n_estmators:  100\n",
      "Max_depth:  None\n",
      "min_samples_split:  2\n",
      "max_features:  sqrt\n"
     ]
    }
   ],
   "source": [
    "estmators = model.named_steps['randomforestclassifier'].get_params()['n_estimators']\n",
    "depth = model.named_steps['randomforestclassifier'].get_params()['max_depth']\n",
    "splits = model.named_steps['randomforestclassifier'].get_params()['min_samples_split']\n",
    "features = model.named_steps['randomforestclassifier'].get_params()['max_features']\n",
    "\n",
    "print(\"n_estmators: \",estmators)\n",
    "print(\"Max_depth: \",depth)\n",
    "print(\"min_samples_split: \",splits)\n",
    "print(\"max_features: \",features)"
   ]
  },
  {
   "cell_type": "markdown",
   "metadata": {},
   "source": [
    "Model perfotmance with different parameter values to increase it's performance.\n",
    "`n_estimators`,`max_depth` and `min_samples_split` "
   ]
  },
  {
   "cell_type": "code",
   "execution_count": 47,
   "metadata": {},
   "outputs": [],
   "source": [
    "# let create a for loop to generate all those accuracy score\n",
    "def hyper_pram_tun(par_name,interval):   \n",
    "   # lett create 2 lists to store our trainning and testing scores \n",
    "    trainning_acc = []\n",
    "    test_acc = []\n",
    "    for d in interval:\n",
    "         rf_model = RandomForestClassifier(random_state=42)\n",
    "         setattr(rf_model, par_name, d)\n",
    "        \n",
    "        # creating our modified pipeline\n",
    "         modified_model = make_pipeline(\n",
    "            OrdinalEncoder(),\n",
    "            rf_model\n",
    "         )\n",
    "        \n",
    "        # let fit our model\n",
    "         modified_model.fit(X_train,y_train)\n",
    "        \n",
    "        # accuracy calculations\n",
    "         trainning_acc.append(modified_model.score(X_train,y_train))\n",
    "         test_acc.append(modified_model.score(X_test,y_test))\n",
    "        \n",
    "    # dictionary of lists\n",
    "    scores = {}\n",
    "    scores['trainning'] = trainning_acc\n",
    "    scores['testing'] = test_acc\n",
    "    \n",
    "    return scores\n",
    "   "
   ]
  },
  {
   "cell_type": "code",
   "execution_count": 39,
   "metadata": {},
   "outputs": [
    {
     "data": {
      "image/png": "[encoded data removed]",
      "text/plain": [
       "<Figure size 800x550 with 1 Axes>"
      ]
     },
     "metadata": {},
     "output_type": "display_data"
    }
   ],
   "source": [
    "# n_estimators tunning\n",
    "looper = range(100,1100,100)\n",
    "scores = hyper_pram_tun('n_estimators',looper)\n",
    "plt.plot(looper,scores['trainning'],label='Trainning')\n",
    "plt.plot(looper,scores['testing'],label='Testing')\n",
    "plt.title('Model performance on different values for n_estimators')\n",
    "plt.legend();"
   ]
  },
  {
   "cell_type": "code",
   "execution_count": 51,
   "metadata": {},
   "outputs": [
    {
     "data": {
      "image/png": "[encoded data removed]",
      "text/plain": [
       "<Figure size 800x550 with 1 Axes>"
      ]
     },
     "metadata": {},
     "output_type": "display_data"
    }
   ],
   "source": [
    "# max_depth tunning\n",
    "looper = range(1,40)\n",
    "scores = hyper_pram_tun('max_depth',looper)\n",
    "plt.plot(looper,scores['trainning'],label='Trainning')\n",
    "plt.plot(looper,scores['testing'],label='Testing')\n",
    "plt.title('Model performance on different values for Max_depth')\n",
    "plt.legend();"
   ]
  },
  {
   "cell_type": "code",
   "execution_count": 140,
   "metadata": {},
   "outputs": [
    {
     "data": {
      "image/png": "[encoded data removed]",
      "text/plain": [
       "<Figure size 800x550 with 1 Axes>"
      ]
     },
     "metadata": {},
     "output_type": "display_data"
    }
   ],
   "source": [
    "# min_samples_split tunning\n",
    "looper = range(2,10)\n",
    "scores = hyper_pram_tun('min_samples_split',looper)\n",
    "plt.plot(looper,scores['trainning'],label='Trainning')\n",
    "plt.plot(looper,scores['testing'],label='Testing')\n",
    "plt.title('Model performance on different values for min_samples_split')\n",
    "plt.legend();"
   ]
  },
  {
   "cell_type": "markdown",
   "metadata": {},
   "source": [
    "##### Model with parameters "
   ]
  },
  {
   "cell_type": "code",
   "execution_count": 135,
   "metadata": {},
   "outputs": [
    {
     "data": {
      "text/html": [
       "<style>#sk-container-id-26 {color: black;}#sk-container-id-26 pre{padding: 0;}#sk-container-id-26 div.sk-toggleable {background-color: white;}#sk-container-id-26 label.sk-toggleable__label {cursor: pointer;display: block;width: 100%;margin-bottom: 0;padding: 0.3em;box-sizing: border-box;text-align: center;}#sk-container-id-26 label.sk-toggleable__label-arrow:before {content: \"▸\";float: left;margin-right: 0.25em;color: #696969;}#sk-container-id-26 label.sk-toggleable__label-arrow:hover:before {color: black;}#sk-container-id-26 div.sk-estimator:hover label.sk-toggleable__label-arrow:before {color: black;}#sk-container-id-26 div.sk-toggleable__content {max-height: 0;max-width: 0;overflow: hidden;text-align: left;background-color: #f0f8ff;}#sk-container-id-26 div.sk-toggleable__content pre {margin: 0.2em;color: black;border-radius: 0.25em;background-color: #f0f8ff;}#sk-container-id-26 input.sk-toggleable__control:checked~div.sk-toggleable__content {max-height: 200px;max-width: 100%;overflow: auto;}#sk-container-id-26 input.sk-toggleable__control:checked~label.sk-toggleable__label-arrow:before {content: \"▾\";}#sk-container-id-26 div.sk-estimator input.sk-toggleable__control:checked~label.sk-toggleable__label {background-color: #d4ebff;}#sk-container-id-26 div.sk-label input.sk-toggleable__control:checked~label.sk-toggleable__label {background-color: #d4ebff;}#sk-container-id-26 input.sk-hidden--visually {border: 0;clip: rect(1px 1px 1px 1px);clip: rect(1px, 1px, 1px, 1px);height: 1px;margin: -1px;overflow: hidden;padding: 0;position: absolute;width: 1px;}#sk-container-id-26 div.sk-estimator {font-family: monospace;background-color: #f0f8ff;border: 1px dotted black;border-radius: 0.25em;box-sizing: border-box;margin-bottom: 0.5em;}#sk-container-id-26 div.sk-estimator:hover {background-color: #d4ebff;}#sk-container-id-26 div.sk-parallel-item::after {content: \"\";width: 100%;border-bottom: 1px solid gray;flex-grow: 1;}#sk-container-id-26 div.sk-label:hover label.sk-toggleable__label {background-color: #d4ebff;}#sk-container-id-26 div.sk-serial::before {content: \"\";position: absolute;border-left: 1px solid gray;box-sizing: border-box;top: 0;bottom: 0;left: 50%;z-index: 0;}#sk-container-id-26 div.sk-serial {display: flex;flex-direction: column;align-items: center;background-color: white;padding-right: 0.2em;padding-left: 0.2em;position: relative;}#sk-container-id-26 div.sk-item {position: relative;z-index: 1;}#sk-container-id-26 div.sk-parallel {display: flex;align-items: stretch;justify-content: center;background-color: white;position: relative;}#sk-container-id-26 div.sk-item::before, #sk-container-id-26 div.sk-parallel-item::before {content: \"\";position: absolute;border-left: 1px solid gray;box-sizing: border-box;top: 0;bottom: 0;left: 50%;z-index: -1;}#sk-container-id-26 div.sk-parallel-item {display: flex;flex-direction: column;z-index: 1;position: relative;background-color: white;}#sk-container-id-26 div.sk-parallel-item:first-child::after {align-self: flex-end;width: 50%;}#sk-container-id-26 div.sk-parallel-item:last-child::after {align-self: flex-start;width: 50%;}#sk-container-id-26 div.sk-parallel-item:only-child::after {width: 0;}#sk-container-id-26 div.sk-dashed-wrapped {border: 1px dashed gray;margin: 0 0.4em 0.5em 0.4em;box-sizing: border-box;padding-bottom: 0.4em;background-color: white;}#sk-container-id-26 div.sk-label label {font-family: monospace;font-weight: bold;display: inline-block;line-height: 1.2em;}#sk-container-id-26 div.sk-label-container {text-align: center;}#sk-container-id-26 div.sk-container {/* jupyter's `normalize.less` sets `[hidden] { display: none; }` but bootstrap.min.css set `[hidden] { display: none !important; }` so we also need the `!important` here to be able to override the default hidden behavior on the sphinx rendered scikit-learn.org. See: https://github.com/scikit-learn/scikit-learn/issues/21755 */display: inline-block !important;position: relative;}#sk-container-id-26 div.sk-text-repr-fallback {display: none;}</style><div id=\"sk-container-id-26\" class=\"sk-top-container\"><div class=\"sk-text-repr-fallback\"><pre>Pipeline(steps=[(&#x27;ordinalencoder&#x27;,\n",
       "                 OrdinalEncoder(cols=[&#x27;Symptom 1&#x27;, &#x27;Symptom 2&#x27;, &#x27;Symptom 3&#x27;],\n",
       "                                mapping=[{&#x27;col&#x27;: &#x27;Symptom 1&#x27;,\n",
       "                                          &#x27;data_type&#x27;: dtype(&#x27;O&#x27;),\n",
       "                                          &#x27;mapping&#x27;: crackling sound             1\n",
       "depression                  2\n",
       "swelling in abdomen         3\n",
       "difficulty walking          4\n",
       "chest discomfort            5\n",
       "painless lumps              6\n",
       "lameness                    7\n",
       "loss of appetite            8\n",
       "sweats                      9\n",
       "sores on mouth             10\n",
       "swelling in neck           11\n",
       "fatigue                    12\n",
       "blisters on gums           13\n",
       "sores on tongue            14\n",
       "swelling...\n",
       "chest discomfort            9\n",
       "sores on mouth             10\n",
       "painless lumps             11\n",
       "sores on gums              12\n",
       "difficulty walking         13\n",
       "swelling in limb           14\n",
       "sweats                     15\n",
       "sores on hooves            16\n",
       "swelling in neck           17\n",
       "blisters on mouth          18\n",
       "blisters on gums           19\n",
       "blisters on tongue         20\n",
       "blisters on hooves         21\n",
       "sores on tongue            22\n",
       "swelling in abdomen        23\n",
       "swelling in extremities    24\n",
       "NaN                        -2\n",
       "dtype: int64}])),\n",
       "                (&#x27;randomforestclassifier&#x27;,\n",
       "                 RandomForestClassifier(max_depth=10, random_state=42))])</pre><b>In a Jupyter environment, please rerun this cell to show the HTML representation or trust the notebook. <br />On GitHub, the HTML representation is unable to render, please try loading this page with nbviewer.org.</b></div><div class=\"sk-container\" hidden><div class=\"sk-item sk-dashed-wrapped\"><div class=\"sk-label-container\"><div class=\"sk-label sk-toggleable\"><input class=\"sk-toggleable__control sk-hidden--visually\" id=\"sk-estimator-id-74\" type=\"checkbox\" ><label for=\"sk-estimator-id-74\" class=\"sk-toggleable__label sk-toggleable__label-arrow\">Pipeline</label><div class=\"sk-toggleable__content\"><pre>Pipeline(steps=[(&#x27;ordinalencoder&#x27;,\n",
       "                 OrdinalEncoder(cols=[&#x27;Symptom 1&#x27;, &#x27;Symptom 2&#x27;, &#x27;Symptom 3&#x27;],\n",
       "                                mapping=[{&#x27;col&#x27;: &#x27;Symptom 1&#x27;,\n",
       "                                          &#x27;data_type&#x27;: dtype(&#x27;O&#x27;),\n",
       "                                          &#x27;mapping&#x27;: crackling sound             1\n",
       "depression                  2\n",
       "swelling in abdomen         3\n",
       "difficulty walking          4\n",
       "chest discomfort            5\n",
       "painless lumps              6\n",
       "lameness                    7\n",
       "loss of appetite            8\n",
       "sweats                      9\n",
       "sores on mouth             10\n",
       "swelling in neck           11\n",
       "fatigue                    12\n",
       "blisters on gums           13\n",
       "sores on tongue            14\n",
       "swelling...\n",
       "chest discomfort            9\n",
       "sores on mouth             10\n",
       "painless lumps             11\n",
       "sores on gums              12\n",
       "difficulty walking         13\n",
       "swelling in limb           14\n",
       "sweats                     15\n",
       "sores on hooves            16\n",
       "swelling in neck           17\n",
       "blisters on mouth          18\n",
       "blisters on gums           19\n",
       "blisters on tongue         20\n",
       "blisters on hooves         21\n",
       "sores on tongue            22\n",
       "swelling in abdomen        23\n",
       "swelling in extremities    24\n",
       "NaN                        -2\n",
       "dtype: int64}])),\n",
       "                (&#x27;randomforestclassifier&#x27;,\n",
       "                 RandomForestClassifier(max_depth=10, random_state=42))])</pre></div></div></div><div class=\"sk-serial\"><div class=\"sk-item\"><div class=\"sk-estimator sk-toggleable\"><input class=\"sk-toggleable__control sk-hidden--visually\" id=\"sk-estimator-id-75\" type=\"checkbox\" ><label for=\"sk-estimator-id-75\" class=\"sk-toggleable__label sk-toggleable__label-arrow\">OrdinalEncoder</label><div class=\"sk-toggleable__content\"><pre>OrdinalEncoder(cols=[&#x27;Symptom 1&#x27;, &#x27;Symptom 2&#x27;, &#x27;Symptom 3&#x27;],\n",
       "               mapping=[{&#x27;col&#x27;: &#x27;Symptom 1&#x27;, &#x27;data_type&#x27;: dtype(&#x27;O&#x27;),\n",
       "                         &#x27;mapping&#x27;: crackling sound             1\n",
       "depression                  2\n",
       "swelling in abdomen         3\n",
       "difficulty walking          4\n",
       "chest discomfort            5\n",
       "painless lumps              6\n",
       "lameness                    7\n",
       "loss of appetite            8\n",
       "sweats                      9\n",
       "sores on mouth             10\n",
       "swelling in neck           11\n",
       "fatigue                    12\n",
       "blisters on gums           13\n",
       "sores on tongue            14\n",
       "swelling in extremities    15\n",
       "shortness of breath        16...\n",
       "fatigue                     3\n",
       "chills                      4\n",
       "depression                  5\n",
       "crackling sound             6\n",
       "shortness of breath         7\n",
       "swelling in muscle          8\n",
       "chest discomfort            9\n",
       "sores on mouth             10\n",
       "painless lumps             11\n",
       "sores on gums              12\n",
       "difficulty walking         13\n",
       "swelling in limb           14\n",
       "sweats                     15\n",
       "sores on hooves            16\n",
       "swelling in neck           17\n",
       "blisters on mouth          18\n",
       "blisters on gums           19\n",
       "blisters on tongue         20\n",
       "blisters on hooves         21\n",
       "sores on tongue            22\n",
       "swelling in abdomen        23\n",
       "swelling in extremities    24\n",
       "NaN                        -2\n",
       "dtype: int64}])</pre></div></div></div><div class=\"sk-item\"><div class=\"sk-estimator sk-toggleable\"><input class=\"sk-toggleable__control sk-hidden--visually\" id=\"sk-estimator-id-76\" type=\"checkbox\" ><label for=\"sk-estimator-id-76\" class=\"sk-toggleable__label sk-toggleable__label-arrow\">RandomForestClassifier</label><div class=\"sk-toggleable__content\"><pre>RandomForestClassifier(max_depth=10, random_state=42)</pre></div></div></div></div></div></div></div>"
      ],
      "text/plain": [
       "Pipeline(steps=[('ordinalencoder',\n",
       "                 OrdinalEncoder(cols=['Symptom 1', 'Symptom 2', 'Symptom 3'],\n",
       "                                mapping=[{'col': 'Symptom 1',\n",
       "                                          'data_type': dtype('O'),\n",
       "                                          'mapping': crackling sound             1\n",
       "depression                  2\n",
       "swelling in abdomen         3\n",
       "difficulty walking          4\n",
       "chest discomfort            5\n",
       "painless lumps              6\n",
       "lameness                    7\n",
       "loss of appetite            8\n",
       "sweats                      9\n",
       "sores on mouth             10\n",
       "swelling in neck           11\n",
       "fatigue                    12\n",
       "blisters on gums           13\n",
       "sores on tongue            14\n",
       "swelling...\n",
       "chest discomfort            9\n",
       "sores on mouth             10\n",
       "painless lumps             11\n",
       "sores on gums              12\n",
       "difficulty walking         13\n",
       "swelling in limb           14\n",
       "sweats                     15\n",
       "sores on hooves            16\n",
       "swelling in neck           17\n",
       "blisters on mouth          18\n",
       "blisters on gums           19\n",
       "blisters on tongue         20\n",
       "blisters on hooves         21\n",
       "sores on tongue            22\n",
       "swelling in abdomen        23\n",
       "swelling in extremities    24\n",
       "NaN                        -2\n",
       "dtype: int64}])),\n",
       "                ('randomforestclassifier',\n",
       "                 RandomForestClassifier(max_depth=10, random_state=42))])"
      ]
     },
     "execution_count": 135,
     "metadata": {},
     "output_type": "execute_result"
    }
   ],
   "source": [
    "final_model = make_pipeline(\n",
    "    OrdinalEncoder(),\n",
    "    RandomForestClassifier(n_estimators=100,max_depth=10, min_samples_split=2, random_state=42)\n",
    ")\n",
    "\n",
    "final_model.fit(X_train,y_train)"
   ]
  },
  {
   "cell_type": "code",
   "execution_count": 136,
   "metadata": {},
   "outputs": [
    {
     "name": "stdout",
     "output_type": "stream",
     "text": [
      "Trainning score:  0.86\n",
      "Test score:  0.82\n"
     ]
    }
   ],
   "source": [
    "print('Trainning score: ',final_model.score(X_train,y_train).round(2))\n",
    "print('Test score: ', final_model.score(X_test,y_test).round(2))\n"
   ]
  },
  {
   "cell_type": "markdown",
   "metadata": {},
   "source": [
    "#### Model Testing "
   ]
  },
  {
   "cell_type": "code",
   "execution_count": 137,
   "metadata": {},
   "outputs": [
    {
     "name": "stdout",
     "output_type": "stream",
     "text": [
      "Predicted disease: anthrax\n"
     ]
    }
   ],
   "source": [
    "def transf(Age,Temperature,Symptom1,Symptom2,Symptom3):\n",
    "    y =pd.DataFrame([{\n",
    "    'Age':Age,\n",
    "    'Temperature':Temperature,\n",
    "    'Symptom 1':Symptom1,\n",
    "    'Symptom 2':Symptom2,\n",
    "    'Symptom 3':Symptom3}])\n",
    "    return y\n",
    "\n",
    "result = final_model.predict(transf(3,101.4,'shortness of breath','sweats','chills'))[0]\n",
    "print('Predicted disease:',result)"
   ]
  },
  {
   "cell_type": "markdown",
   "metadata": {},
   "source": [
    "#### Additional exploration\n",
    "Let's try reducing features to increase the performance"
   ]
  },
  {
   "cell_type": "code",
   "execution_count": 120,
   "metadata": {},
   "outputs": [
    {
     "data": {
      "text/plain": [
       "Symptom 1      0.363465\n",
       "Symptom 3      0.327872\n",
       "Symptom 2      0.285839\n",
       "Temperature    0.013593\n",
       "Age            0.009231\n",
       "dtype: float64"
      ]
     },
     "execution_count": 120,
     "metadata": {},
     "output_type": "execute_result"
    }
   ],
   "source": [
    "f_import = pd.Series(final_model.named_steps['randomforestclassifier'].feature_importances_, index=X_train.columns).sort_values(ascending=False)\n",
    "f_import"
   ]
  },
  {
   "cell_type": "code",
   "execution_count": 127,
   "metadata": {},
   "outputs": [],
   "source": [
    "# lets drop features lest than 20%\n",
    "Xn = X.drop(['Temperature','Age'], axis=1)\n",
    "Xn_train, Xn_test,yn_train,yn_test = train_test_split(Xn,y,test_size=.2, random_state=42)"
   ]
  },
  {
   "cell_type": "code",
   "execution_count": 128,
   "metadata": {},
   "outputs": [
    {
     "data": {
      "text/html": [
       "<style>#sk-container-id-24 {color: black;}#sk-container-id-24 pre{padding: 0;}#sk-container-id-24 div.sk-toggleable {background-color: white;}#sk-container-id-24 label.sk-toggleable__label {cursor: pointer;display: block;width: 100%;margin-bottom: 0;padding: 0.3em;box-sizing: border-box;text-align: center;}#sk-container-id-24 label.sk-toggleable__label-arrow:before {content: \"▸\";float: left;margin-right: 0.25em;color: #696969;}#sk-container-id-24 label.sk-toggleable__label-arrow:hover:before {color: black;}#sk-container-id-24 div.sk-estimator:hover label.sk-toggleable__label-arrow:before {color: black;}#sk-container-id-24 div.sk-toggleable__content {max-height: 0;max-width: 0;overflow: hidden;text-align: left;background-color: #f0f8ff;}#sk-container-id-24 div.sk-toggleable__content pre {margin: 0.2em;color: black;border-radius: 0.25em;background-color: #f0f8ff;}#sk-container-id-24 input.sk-toggleable__control:checked~div.sk-toggleable__content {max-height: 200px;max-width: 100%;overflow: auto;}#sk-container-id-24 input.sk-toggleable__control:checked~label.sk-toggleable__label-arrow:before {content: \"▾\";}#sk-container-id-24 div.sk-estimator input.sk-toggleable__control:checked~label.sk-toggleable__label {background-color: #d4ebff;}#sk-container-id-24 div.sk-label input.sk-toggleable__control:checked~label.sk-toggleable__label {background-color: #d4ebff;}#sk-container-id-24 input.sk-hidden--visually {border: 0;clip: rect(1px 1px 1px 1px);clip: rect(1px, 1px, 1px, 1px);height: 1px;margin: -1px;overflow: hidden;padding: 0;position: absolute;width: 1px;}#sk-container-id-24 div.sk-estimator {font-family: monospace;background-color: #f0f8ff;border: 1px dotted black;border-radius: 0.25em;box-sizing: border-box;margin-bottom: 0.5em;}#sk-container-id-24 div.sk-estimator:hover {background-color: #d4ebff;}#sk-container-id-24 div.sk-parallel-item::after {content: \"\";width: 100%;border-bottom: 1px solid gray;flex-grow: 1;}#sk-container-id-24 div.sk-label:hover label.sk-toggleable__label {background-color: #d4ebff;}#sk-container-id-24 div.sk-serial::before {content: \"\";position: absolute;border-left: 1px solid gray;box-sizing: border-box;top: 0;bottom: 0;left: 50%;z-index: 0;}#sk-container-id-24 div.sk-serial {display: flex;flex-direction: column;align-items: center;background-color: white;padding-right: 0.2em;padding-left: 0.2em;position: relative;}#sk-container-id-24 div.sk-item {position: relative;z-index: 1;}#sk-container-id-24 div.sk-parallel {display: flex;align-items: stretch;justify-content: center;background-color: white;position: relative;}#sk-container-id-24 div.sk-item::before, #sk-container-id-24 div.sk-parallel-item::before {content: \"\";position: absolute;border-left: 1px solid gray;box-sizing: border-box;top: 0;bottom: 0;left: 50%;z-index: -1;}#sk-container-id-24 div.sk-parallel-item {display: flex;flex-direction: column;z-index: 1;position: relative;background-color: white;}#sk-container-id-24 div.sk-parallel-item:first-child::after {align-self: flex-end;width: 50%;}#sk-container-id-24 div.sk-parallel-item:last-child::after {align-self: flex-start;width: 50%;}#sk-container-id-24 div.sk-parallel-item:only-child::after {width: 0;}#sk-container-id-24 div.sk-dashed-wrapped {border: 1px dashed gray;margin: 0 0.4em 0.5em 0.4em;box-sizing: border-box;padding-bottom: 0.4em;background-color: white;}#sk-container-id-24 div.sk-label label {font-family: monospace;font-weight: bold;display: inline-block;line-height: 1.2em;}#sk-container-id-24 div.sk-label-container {text-align: center;}#sk-container-id-24 div.sk-container {/* jupyter's `normalize.less` sets `[hidden] { display: none; }` but bootstrap.min.css set `[hidden] { display: none !important; }` so we also need the `!important` here to be able to override the default hidden behavior on the sphinx rendered scikit-learn.org. See: https://github.com/scikit-learn/scikit-learn/issues/21755 */display: inline-block !important;position: relative;}#sk-container-id-24 div.sk-text-repr-fallback {display: none;}</style><div id=\"sk-container-id-24\" class=\"sk-top-container\"><div class=\"sk-text-repr-fallback\"><pre>Pipeline(steps=[(&#x27;ordinalencoder&#x27;,\n",
       "                 OrdinalEncoder(cols=[&#x27;Symptom 1&#x27;, &#x27;Symptom 2&#x27;, &#x27;Symptom 3&#x27;],\n",
       "                                mapping=[{&#x27;col&#x27;: &#x27;Symptom 1&#x27;,\n",
       "                                          &#x27;data_type&#x27;: dtype(&#x27;O&#x27;),\n",
       "                                          &#x27;mapping&#x27;: crackling sound             1\n",
       "depression                  2\n",
       "swelling in abdomen         3\n",
       "difficulty walking          4\n",
       "chest discomfort            5\n",
       "painless lumps              6\n",
       "lameness                    7\n",
       "loss of appetite            8\n",
       "sweats                      9\n",
       "sores on mouth             10\n",
       "swelling in neck           11\n",
       "fatigue                    12\n",
       "blisters on gums           13\n",
       "sores on tongue            14\n",
       "swelling...\n",
       "chest discomfort            9\n",
       "sores on mouth             10\n",
       "painless lumps             11\n",
       "sores on gums              12\n",
       "difficulty walking         13\n",
       "swelling in limb           14\n",
       "sweats                     15\n",
       "sores on hooves            16\n",
       "swelling in neck           17\n",
       "blisters on mouth          18\n",
       "blisters on gums           19\n",
       "blisters on tongue         20\n",
       "blisters on hooves         21\n",
       "sores on tongue            22\n",
       "swelling in abdomen        23\n",
       "swelling in extremities    24\n",
       "NaN                        -2\n",
       "dtype: int64}])),\n",
       "                (&#x27;randomforestclassifier&#x27;,\n",
       "                 RandomForestClassifier(max_depth=10, random_state=42))])</pre><b>In a Jupyter environment, please rerun this cell to show the HTML representation or trust the notebook. <br />On GitHub, the HTML representation is unable to render, please try loading this page with nbviewer.org.</b></div><div class=\"sk-container\" hidden><div class=\"sk-item sk-dashed-wrapped\"><div class=\"sk-label-container\"><div class=\"sk-label sk-toggleable\"><input class=\"sk-toggleable__control sk-hidden--visually\" id=\"sk-estimator-id-68\" type=\"checkbox\" ><label for=\"sk-estimator-id-68\" class=\"sk-toggleable__label sk-toggleable__label-arrow\">Pipeline</label><div class=\"sk-toggleable__content\"><pre>Pipeline(steps=[(&#x27;ordinalencoder&#x27;,\n",
       "                 OrdinalEncoder(cols=[&#x27;Symptom 1&#x27;, &#x27;Symptom 2&#x27;, &#x27;Symptom 3&#x27;],\n",
       "                                mapping=[{&#x27;col&#x27;: &#x27;Symptom 1&#x27;,\n",
       "                                          &#x27;data_type&#x27;: dtype(&#x27;O&#x27;),\n",
       "                                          &#x27;mapping&#x27;: crackling sound             1\n",
       "depression                  2\n",
       "swelling in abdomen         3\n",
       "difficulty walking          4\n",
       "chest discomfort            5\n",
       "painless lumps              6\n",
       "lameness                    7\n",
       "loss of appetite            8\n",
       "sweats                      9\n",
       "sores on mouth             10\n",
       "swelling in neck           11\n",
       "fatigue                    12\n",
       "blisters on gums           13\n",
       "sores on tongue            14\n",
       "swelling...\n",
       "chest discomfort            9\n",
       "sores on mouth             10\n",
       "painless lumps             11\n",
       "sores on gums              12\n",
       "difficulty walking         13\n",
       "swelling in limb           14\n",
       "sweats                     15\n",
       "sores on hooves            16\n",
       "swelling in neck           17\n",
       "blisters on mouth          18\n",
       "blisters on gums           19\n",
       "blisters on tongue         20\n",
       "blisters on hooves         21\n",
       "sores on tongue            22\n",
       "swelling in abdomen        23\n",
       "swelling in extremities    24\n",
       "NaN                        -2\n",
       "dtype: int64}])),\n",
       "                (&#x27;randomforestclassifier&#x27;,\n",
       "                 RandomForestClassifier(max_depth=10, random_state=42))])</pre></div></div></div><div class=\"sk-serial\"><div class=\"sk-item\"><div class=\"sk-estimator sk-toggleable\"><input class=\"sk-toggleable__control sk-hidden--visually\" id=\"sk-estimator-id-69\" type=\"checkbox\" ><label for=\"sk-estimator-id-69\" class=\"sk-toggleable__label sk-toggleable__label-arrow\">OrdinalEncoder</label><div class=\"sk-toggleable__content\"><pre>OrdinalEncoder(cols=[&#x27;Symptom 1&#x27;, &#x27;Symptom 2&#x27;, &#x27;Symptom 3&#x27;],\n",
       "               mapping=[{&#x27;col&#x27;: &#x27;Symptom 1&#x27;, &#x27;data_type&#x27;: dtype(&#x27;O&#x27;),\n",
       "                         &#x27;mapping&#x27;: crackling sound             1\n",
       "depression                  2\n",
       "swelling in abdomen         3\n",
       "difficulty walking          4\n",
       "chest discomfort            5\n",
       "painless lumps              6\n",
       "lameness                    7\n",
       "loss of appetite            8\n",
       "sweats                      9\n",
       "sores on mouth             10\n",
       "swelling in neck           11\n",
       "fatigue                    12\n",
       "blisters on gums           13\n",
       "sores on tongue            14\n",
       "swelling in extremities    15\n",
       "shortness of breath        16...\n",
       "fatigue                     3\n",
       "chills                      4\n",
       "depression                  5\n",
       "crackling sound             6\n",
       "shortness of breath         7\n",
       "swelling in muscle          8\n",
       "chest discomfort            9\n",
       "sores on mouth             10\n",
       "painless lumps             11\n",
       "sores on gums              12\n",
       "difficulty walking         13\n",
       "swelling in limb           14\n",
       "sweats                     15\n",
       "sores on hooves            16\n",
       "swelling in neck           17\n",
       "blisters on mouth          18\n",
       "blisters on gums           19\n",
       "blisters on tongue         20\n",
       "blisters on hooves         21\n",
       "sores on tongue            22\n",
       "swelling in abdomen        23\n",
       "swelling in extremities    24\n",
       "NaN                        -2\n",
       "dtype: int64}])</pre></div></div></div><div class=\"sk-item\"><div class=\"sk-estimator sk-toggleable\"><input class=\"sk-toggleable__control sk-hidden--visually\" id=\"sk-estimator-id-70\" type=\"checkbox\" ><label for=\"sk-estimator-id-70\" class=\"sk-toggleable__label sk-toggleable__label-arrow\">RandomForestClassifier</label><div class=\"sk-toggleable__content\"><pre>RandomForestClassifier(max_depth=10, random_state=42)</pre></div></div></div></div></div></div></div>"
      ],
      "text/plain": [
       "Pipeline(steps=[('ordinalencoder',\n",
       "                 OrdinalEncoder(cols=['Symptom 1', 'Symptom 2', 'Symptom 3'],\n",
       "                                mapping=[{'col': 'Symptom 1',\n",
       "                                          'data_type': dtype('O'),\n",
       "                                          'mapping': crackling sound             1\n",
       "depression                  2\n",
       "swelling in abdomen         3\n",
       "difficulty walking          4\n",
       "chest discomfort            5\n",
       "painless lumps              6\n",
       "lameness                    7\n",
       "loss of appetite            8\n",
       "sweats                      9\n",
       "sores on mouth             10\n",
       "swelling in neck           11\n",
       "fatigue                    12\n",
       "blisters on gums           13\n",
       "sores on tongue            14\n",
       "swelling...\n",
       "chest discomfort            9\n",
       "sores on mouth             10\n",
       "painless lumps             11\n",
       "sores on gums              12\n",
       "difficulty walking         13\n",
       "swelling in limb           14\n",
       "sweats                     15\n",
       "sores on hooves            16\n",
       "swelling in neck           17\n",
       "blisters on mouth          18\n",
       "blisters on gums           19\n",
       "blisters on tongue         20\n",
       "blisters on hooves         21\n",
       "sores on tongue            22\n",
       "swelling in abdomen        23\n",
       "swelling in extremities    24\n",
       "NaN                        -2\n",
       "dtype: int64}])),\n",
       "                ('randomforestclassifier',\n",
       "                 RandomForestClassifier(max_depth=10, random_state=42))])"
      ]
     },
     "execution_count": 128,
     "metadata": {},
     "output_type": "execute_result"
    }
   ],
   "source": [
    "final_model1 = make_pipeline(\n",
    "    OrdinalEncoder(),\n",
    "    RandomForestClassifier(n_estimators=100,max_depth=10, min_samples_split=2, random_state=42)\n",
    ")\n",
    "\n",
    "final_model1.fit(Xn_train,yn_train)"
   ]
  },
  {
   "cell_type": "code",
   "execution_count": 129,
   "metadata": {},
   "outputs": [
    {
     "name": "stdout",
     "output_type": "stream",
     "text": [
      "Trainning score:  0.83\n",
      "Test score:  0.84\n"
     ]
    }
   ],
   "source": [
    "print('Trainning score: ',final_model1.score(Xn_train,yn_train).round(2))\n",
    "print('Test score: ', final_model1.score(Xn_test,yn_test).round(2))\n"
   ]
  },
  {
   "cell_type": "code",
   "execution_count": 131,
   "metadata": {},
   "outputs": [
    {
     "name": "stdout",
     "output_type": "stream",
     "text": [
      "Predicted disease: anthrax\n"
     ]
    }
   ],
   "source": [
    "def transf(Symptom1,Symptom2,Symptom3):\n",
    "    y =pd.DataFrame([{\n",
    "    'Symptom 1':Symptom1,\n",
    "    'Symptom 2':Symptom2,\n",
    "    'Symptom 3':Symptom3}])\n",
    "    return y\n",
    "\n",
    "result = final_model1.predict(transf('shortness of breath','sweats','chills'))[0]\n",
    "print('Predicted disease:',result)"
   ]
  },
  {
   "cell_type": "code",
   "execution_count": null,
   "metadata": {},
   "outputs": [],
   "source": []
  }
 ],
 "metadata": {
  "kernelspec": {
   "display_name": "base",
   "language": "python",
   "name": "python3"
  },
  "language_info": {
   "codemirror_mode": {
    "name": "ipython",
    "version": 3
   },
   "file_extension": ".py",
   "mimetype": "text/x-python",
   "name": "python",
   "nbconvert_exporter": "python",
   "pygments_lexer": "ipython3",
   "version": "3.11.4"
  }
 },
 "nbformat": 4,
 "nbformat_minor": 2
}
